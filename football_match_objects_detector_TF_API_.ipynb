{
  "nbformat": 4,
  "nbformat_minor": 0,
  "metadata": {
    "colab": {
      "name": "football match objects detector TF API .ipynb",
      "provenance": [],
      "mount_file_id": "1jtvqmLNna6jgyp-SD_2ATrOCRLOM68Vb",
      "authorship_tag": "ABX9TyNITOc7IEtDvsWSmHmA2NrZ",
      "include_colab_link": true
    },
    "kernelspec": {
      "name": "python3",
      "display_name": "Python 3"
    },
    "language_info": {
      "name": "python"
    },
    "accelerator": "GPU"
  },
  "cells": [
    {
      "cell_type": "markdown",
      "metadata": {
        "id": "view-in-github",
        "colab_type": "text"
      },
      "source": [
        "<a href=\"https://colab.research.google.com/github/muhammadtarek98/deep-learning-curve-A.I-solutions-internship/blob/main/football_match_objects_detector_TF_API_.ipynb\" target=\"_parent\"><img src=\"https://colab.research.google.com/assets/colab-badge.svg\" alt=\"Open In Colab\"/></a>"
      ]
    },
    {
      "cell_type": "code",
      "execution_count": null,
      "metadata": {
        "id": "4PI2IuU2zCVc",
        "colab": {
          "base_uri": "https://localhost:8080/"
        },
        "outputId": "1bbf1f49-e0a9-406f-a954-1c03bdf71773"
      },
      "outputs": [
        {
          "output_type": "stream",
          "name": "stdout",
          "text": [
            "Cloning into 'models'...\n",
            "remote: Enumerating objects: 3335, done.\u001b[K\n",
            "remote: Counting objects: 100% (3335/3335), done.\u001b[K\n",
            "remote: Compressing objects: 100% (2761/2761), done.\u001b[K\n",
            "remote: Total 3335 (delta 884), reused 1409 (delta 524), pack-reused 0\u001b[K\n",
            "Receiving objects: 100% (3335/3335), 34.32 MiB | 21.22 MiB/s, done.\n",
            "Resolving deltas: 100% (884/884), done.\n"
          ]
        }
      ],
      "source": [
        "# uncomment the next line if you want to delete an existing models directory\n",
        "!rm -rf ./models/\n",
        "\n",
        "# clone the Tensorflow Model Garden\n",
        "!git clone --depth 1 https://github.com/tensorflow/models/"
      ]
    },
    {
      "cell_type": "code",
      "source": [
        "!cd models/research/ && protoc object_detection/protos/*.proto --python_out=."
      ],
      "metadata": {
        "id": "YBPuIUlOzbRd"
      },
      "execution_count": null,
      "outputs": []
    },
    {
      "cell_type": "code",
      "source": [
        "%%writefile models/research/setup.py\n",
        "\n",
        "import os\n",
        "from setuptools import find_packages\n",
        "from setuptools import setup\n",
        "\n",
        "REQUIRED_PACKAGES = [\n",
        "    'tf-models-official==2.8.0',\n",
        "    'tensorflow_io'\n",
        "]\n",
        "\n",
        "setup(\n",
        "    name='object_detection',\n",
        "    version='0.1',\n",
        "    install_requires=REQUIRED_PACKAGES,\n",
        "    include_package_data=True,\n",
        "    packages=(\n",
        "        [p for p in find_packages() if p.startswith('object_detection')] +\n",
        "        find_packages(where=os.path.join('.', 'slim'))),\n",
        "    package_dir={\n",
        "        'datasets': os.path.join('slim', 'datasets'),\n",
        "        'nets': os.path.join('slim', 'nets'),\n",
        "        'preprocessing': os.path.join('slim', 'preprocessing'),\n",
        "        'deployment': os.path.join('slim', 'deployment'),\n",
        "        'scripts': os.path.join('slim', 'scripts'),\n",
        "    },\n",
        "    description='Tensorflow Object Detection Library',\n",
        "    python_requires='>3.6',\n",
        ")"
      ],
      "metadata": {
        "colab": {
          "base_uri": "https://localhost:8080/"
        },
        "id": "VPhuxzB9zdOk",
        "outputId": "34a5b696-34e8-4044-c33d-712ee0582796"
      },
      "execution_count": null,
      "outputs": [
        {
          "output_type": "stream",
          "name": "stdout",
          "text": [
            "Writing models/research/setup.py\n"
          ]
        }
      ]
    },
    {
      "cell_type": "code",
      "source": [
        "!python -m pip install models/research"
      ],
      "metadata": {
        "colab": {
          "base_uri": "https://localhost:8080/"
        },
        "id": "J3rElV8WziWS",
        "outputId": "f075b0c5-3872-4247-f429-3ade96a750e4"
      },
      "execution_count": null,
      "outputs": [
        {
          "output_type": "stream",
          "name": "stdout",
          "text": [
            "Processing ./models/research\n",
            "\u001b[33m  DEPRECATION: A future pip version will change local packages to be built in-place without first copying to a temporary directory. We recommend you use --use-feature=in-tree-build to test your packages with this new behavior before it becomes the default.\n",
            "   pip 21.3 will remove support for this functionality. You can find discussion regarding this at https://github.com/pypa/pip/issues/7555.\u001b[0m\n",
            "Collecting tf-models-official==2.8.0\n",
            "  Downloading tf_models_official-2.8.0-py2.py3-none-any.whl (2.2 MB)\n",
            "\u001b[K     |████████████████████████████████| 2.2 MB 4.8 MB/s \n",
            "\u001b[?25hCollecting tensorflow_io\n",
            "  Downloading tensorflow_io-0.25.0-cp37-cp37m-manylinux_2_12_x86_64.manylinux2010_x86_64.whl (23.4 MB)\n",
            "\u001b[K     |████████████████████████████████| 23.4 MB 4.8 MB/s \n",
            "\u001b[?25hCollecting tensorflow-text~=2.8.0\n",
            "  Downloading tensorflow_text-2.8.2-cp37-cp37m-manylinux_2_12_x86_64.manylinux2010_x86_64.whl (4.9 MB)\n",
            "\u001b[K     |████████████████████████████████| 4.9 MB 11.9 MB/s \n",
            "\u001b[?25hRequirement already satisfied: numpy>=1.15.4 in /usr/local/lib/python3.7/dist-packages (from tf-models-official==2.8.0->object-detection==0.1) (1.21.6)\n",
            "Collecting pyyaml<6.0,>=5.1\n",
            "  Downloading PyYAML-5.4.1-cp37-cp37m-manylinux1_x86_64.whl (636 kB)\n",
            "\u001b[K     |████████████████████████████████| 636 kB 4.4 MB/s \n",
            "\u001b[?25hRequirement already satisfied: tensorflow-hub>=0.6.0 in /usr/local/lib/python3.7/dist-packages (from tf-models-official==2.8.0->object-detection==0.1) (0.12.0)\n",
            "Requirement already satisfied: Cython in /usr/local/lib/python3.7/dist-packages (from tf-models-official==2.8.0->object-detection==0.1) (0.29.28)\n",
            "Collecting seqeval\n",
            "  Downloading seqeval-1.2.2.tar.gz (43 kB)\n",
            "\u001b[K     |████████████████████████████████| 43 kB 1.8 MB/s \n",
            "\u001b[?25hCollecting sacrebleu\n",
            "  Downloading sacrebleu-2.0.0-py3-none-any.whl (90 kB)\n",
            "\u001b[K     |████████████████████████████████| 90 kB 8.4 MB/s \n",
            "\u001b[?25hRequirement already satisfied: Pillow in /usr/local/lib/python3.7/dist-packages (from tf-models-official==2.8.0->object-detection==0.1) (7.1.2)\n",
            "Collecting tensorflow-addons\n",
            "  Downloading tensorflow_addons-0.16.1-cp37-cp37m-manylinux_2_12_x86_64.manylinux2010_x86_64.whl (1.1 MB)\n",
            "\u001b[K     |████████████████████████████████| 1.1 MB 41.0 MB/s \n",
            "\u001b[?25hRequirement already satisfied: pandas>=0.22.0 in /usr/local/lib/python3.7/dist-packages (from tf-models-official==2.8.0->object-detection==0.1) (1.3.5)\n",
            "Collecting py-cpuinfo>=3.3.0\n",
            "  Downloading py-cpuinfo-8.0.0.tar.gz (99 kB)\n",
            "\u001b[K     |████████████████████████████████| 99 kB 4.9 MB/s \n",
            "\u001b[?25hCollecting tensorflow-model-optimization>=0.4.1\n",
            "  Downloading tensorflow_model_optimization-0.7.2-py2.py3-none-any.whl (237 kB)\n",
            "\u001b[K     |████████████████████████████████| 237 kB 7.1 MB/s \n",
            "\u001b[?25hRequirement already satisfied: google-api-python-client>=1.6.7 in /usr/local/lib/python3.7/dist-packages (from tf-models-official==2.8.0->object-detection==0.1) (1.12.11)\n",
            "Requirement already satisfied: tensorflow~=2.8.0 in /usr/local/lib/python3.7/dist-packages (from tf-models-official==2.8.0->object-detection==0.1) (2.8.0)\n",
            "Collecting opencv-python-headless\n",
            "  Downloading opencv_python_headless-4.5.5.64-cp36-abi3-manylinux_2_17_x86_64.manylinux2014_x86_64.whl (47.8 MB)\n",
            "\u001b[K     |████████████████████████████████| 47.8 MB 34 kB/s \n",
            "\u001b[?25hRequirement already satisfied: six in /usr/local/lib/python3.7/dist-packages (from tf-models-official==2.8.0->object-detection==0.1) (1.15.0)\n",
            "Requirement already satisfied: psutil>=5.4.3 in /usr/local/lib/python3.7/dist-packages (from tf-models-official==2.8.0->object-detection==0.1) (5.4.8)\n",
            "Collecting tf-slim>=1.1.0\n",
            "  Downloading tf_slim-1.1.0-py2.py3-none-any.whl (352 kB)\n",
            "\u001b[K     |████████████████████████████████| 352 kB 48.0 MB/s \n",
            "\u001b[?25hRequirement already satisfied: matplotlib in /usr/local/lib/python3.7/dist-packages (from tf-models-official==2.8.0->object-detection==0.1) (3.2.2)\n",
            "Requirement already satisfied: pycocotools in /usr/local/lib/python3.7/dist-packages (from tf-models-official==2.8.0->object-detection==0.1) (2.0.4)\n",
            "Requirement already satisfied: kaggle>=1.3.9 in /usr/local/lib/python3.7/dist-packages (from tf-models-official==2.8.0->object-detection==0.1) (1.5.12)\n",
            "Requirement already satisfied: tensorflow-datasets in /usr/local/lib/python3.7/dist-packages (from tf-models-official==2.8.0->object-detection==0.1) (4.0.1)\n",
            "Requirement already satisfied: oauth2client in /usr/local/lib/python3.7/dist-packages (from tf-models-official==2.8.0->object-detection==0.1) (4.1.3)\n",
            "Collecting sentencepiece\n",
            "  Downloading sentencepiece-0.1.96-cp37-cp37m-manylinux_2_17_x86_64.manylinux2014_x86_64.whl (1.2 MB)\n",
            "\u001b[K     |████████████████████████████████| 1.2 MB 28.1 MB/s \n",
            "\u001b[?25hRequirement already satisfied: scipy>=0.19.1 in /usr/local/lib/python3.7/dist-packages (from tf-models-official==2.8.0->object-detection==0.1) (1.4.1)\n",
            "Requirement already satisfied: gin-config in /usr/local/lib/python3.7/dist-packages (from tf-models-official==2.8.0->object-detection==0.1) (0.5.0)\n",
            "Requirement already satisfied: httplib2<1dev,>=0.15.0 in /usr/local/lib/python3.7/dist-packages (from google-api-python-client>=1.6.7->tf-models-official==2.8.0->object-detection==0.1) (0.17.4)\n",
            "Requirement already satisfied: uritemplate<4dev,>=3.0.0 in /usr/local/lib/python3.7/dist-packages (from google-api-python-client>=1.6.7->tf-models-official==2.8.0->object-detection==0.1) (3.0.1)\n",
            "Requirement already satisfied: google-auth-httplib2>=0.0.3 in /usr/local/lib/python3.7/dist-packages (from google-api-python-client>=1.6.7->tf-models-official==2.8.0->object-detection==0.1) (0.0.4)\n",
            "Requirement already satisfied: google-auth<3dev,>=1.16.0 in /usr/local/lib/python3.7/dist-packages (from google-api-python-client>=1.6.7->tf-models-official==2.8.0->object-detection==0.1) (1.35.0)\n",
            "Requirement already satisfied: google-api-core<3dev,>=1.21.0 in /usr/local/lib/python3.7/dist-packages (from google-api-python-client>=1.6.7->tf-models-official==2.8.0->object-detection==0.1) (1.31.5)\n",
            "Requirement already satisfied: setuptools>=40.3.0 in /usr/local/lib/python3.7/dist-packages (from google-api-core<3dev,>=1.21.0->google-api-python-client>=1.6.7->tf-models-official==2.8.0->object-detection==0.1) (57.4.0)\n",
            "Requirement already satisfied: googleapis-common-protos<2.0dev,>=1.6.0 in /usr/local/lib/python3.7/dist-packages (from google-api-core<3dev,>=1.21.0->google-api-python-client>=1.6.7->tf-models-official==2.8.0->object-detection==0.1) (1.56.0)\n",
            "Requirement already satisfied: requests<3.0.0dev,>=2.18.0 in /usr/local/lib/python3.7/dist-packages (from google-api-core<3dev,>=1.21.0->google-api-python-client>=1.6.7->tf-models-official==2.8.0->object-detection==0.1) (2.23.0)\n",
            "Requirement already satisfied: protobuf>=3.12.0 in /usr/local/lib/python3.7/dist-packages (from google-api-core<3dev,>=1.21.0->google-api-python-client>=1.6.7->tf-models-official==2.8.0->object-detection==0.1) (3.17.3)\n",
            "Requirement already satisfied: pytz in /usr/local/lib/python3.7/dist-packages (from google-api-core<3dev,>=1.21.0->google-api-python-client>=1.6.7->tf-models-official==2.8.0->object-detection==0.1) (2022.1)\n",
            "Requirement already satisfied: packaging>=14.3 in /usr/local/lib/python3.7/dist-packages (from google-api-core<3dev,>=1.21.0->google-api-python-client>=1.6.7->tf-models-official==2.8.0->object-detection==0.1) (21.3)\n",
            "Requirement already satisfied: rsa<5,>=3.1.4 in /usr/local/lib/python3.7/dist-packages (from google-auth<3dev,>=1.16.0->google-api-python-client>=1.6.7->tf-models-official==2.8.0->object-detection==0.1) (4.8)\n",
            "Requirement already satisfied: pyasn1-modules>=0.2.1 in /usr/local/lib/python3.7/dist-packages (from google-auth<3dev,>=1.16.0->google-api-python-client>=1.6.7->tf-models-official==2.8.0->object-detection==0.1) (0.2.8)\n",
            "Requirement already satisfied: cachetools<5.0,>=2.0.0 in /usr/local/lib/python3.7/dist-packages (from google-auth<3dev,>=1.16.0->google-api-python-client>=1.6.7->tf-models-official==2.8.0->object-detection==0.1) (4.2.4)\n",
            "Requirement already satisfied: python-dateutil in /usr/local/lib/python3.7/dist-packages (from kaggle>=1.3.9->tf-models-official==2.8.0->object-detection==0.1) (2.8.2)\n",
            "Requirement already satisfied: tqdm in /usr/local/lib/python3.7/dist-packages (from kaggle>=1.3.9->tf-models-official==2.8.0->object-detection==0.1) (4.64.0)\n",
            "Requirement already satisfied: certifi in /usr/local/lib/python3.7/dist-packages (from kaggle>=1.3.9->tf-models-official==2.8.0->object-detection==0.1) (2021.10.8)\n",
            "Requirement already satisfied: urllib3 in /usr/local/lib/python3.7/dist-packages (from kaggle>=1.3.9->tf-models-official==2.8.0->object-detection==0.1) (1.24.3)\n",
            "Requirement already satisfied: python-slugify in /usr/local/lib/python3.7/dist-packages (from kaggle>=1.3.9->tf-models-official==2.8.0->object-detection==0.1) (6.1.1)\n",
            "Requirement already satisfied: pyparsing!=3.0.5,>=2.0.2 in /usr/local/lib/python3.7/dist-packages (from packaging>=14.3->google-api-core<3dev,>=1.21.0->google-api-python-client>=1.6.7->tf-models-official==2.8.0->object-detection==0.1) (3.0.8)\n",
            "Requirement already satisfied: pyasn1<0.5.0,>=0.4.6 in /usr/local/lib/python3.7/dist-packages (from pyasn1-modules>=0.2.1->google-auth<3dev,>=1.16.0->google-api-python-client>=1.6.7->tf-models-official==2.8.0->object-detection==0.1) (0.4.8)\n",
            "Requirement already satisfied: chardet<4,>=3.0.2 in /usr/local/lib/python3.7/dist-packages (from requests<3.0.0dev,>=2.18.0->google-api-core<3dev,>=1.21.0->google-api-python-client>=1.6.7->tf-models-official==2.8.0->object-detection==0.1) (3.0.4)\n",
            "Requirement already satisfied: idna<3,>=2.5 in /usr/local/lib/python3.7/dist-packages (from requests<3.0.0dev,>=2.18.0->google-api-core<3dev,>=1.21.0->google-api-python-client>=1.6.7->tf-models-official==2.8.0->object-detection==0.1) (2.10)\n",
            "Requirement already satisfied: libclang>=9.0.1 in /usr/local/lib/python3.7/dist-packages (from tensorflow~=2.8.0->tf-models-official==2.8.0->object-detection==0.1) (13.0.0)\n",
            "Collecting tf-estimator-nightly==2.8.0.dev2021122109\n",
            "  Downloading tf_estimator_nightly-2.8.0.dev2021122109-py2.py3-none-any.whl (462 kB)\n",
            "\u001b[K     |████████████████████████████████| 462 kB 39.9 MB/s \n",
            "\u001b[?25hRequirement already satisfied: absl-py>=0.4.0 in /usr/local/lib/python3.7/dist-packages (from tensorflow~=2.8.0->tf-models-official==2.8.0->object-detection==0.1) (1.0.0)\n",
            "Requirement already satisfied: termcolor>=1.1.0 in /usr/local/lib/python3.7/dist-packages (from tensorflow~=2.8.0->tf-models-official==2.8.0->object-detection==0.1) (1.1.0)\n",
            "Requirement already satisfied: flatbuffers>=1.12 in /usr/local/lib/python3.7/dist-packages (from tensorflow~=2.8.0->tf-models-official==2.8.0->object-detection==0.1) (2.0)\n",
            "Requirement already satisfied: keras-preprocessing>=1.1.1 in /usr/local/lib/python3.7/dist-packages (from tensorflow~=2.8.0->tf-models-official==2.8.0->object-detection==0.1) (1.1.2)\n",
            "Requirement already satisfied: opt-einsum>=2.3.2 in /usr/local/lib/python3.7/dist-packages (from tensorflow~=2.8.0->tf-models-official==2.8.0->object-detection==0.1) (3.3.0)\n",
            "Requirement already satisfied: typing-extensions>=3.6.6 in /usr/local/lib/python3.7/dist-packages (from tensorflow~=2.8.0->tf-models-official==2.8.0->object-detection==0.1) (4.2.0)\n",
            "Requirement already satisfied: tensorboard<2.9,>=2.8 in /usr/local/lib/python3.7/dist-packages (from tensorflow~=2.8.0->tf-models-official==2.8.0->object-detection==0.1) (2.8.0)\n",
            "Requirement already satisfied: grpcio<2.0,>=1.24.3 in /usr/local/lib/python3.7/dist-packages (from tensorflow~=2.8.0->tf-models-official==2.8.0->object-detection==0.1) (1.44.0)\n",
            "Requirement already satisfied: astunparse>=1.6.0 in /usr/local/lib/python3.7/dist-packages (from tensorflow~=2.8.0->tf-models-official==2.8.0->object-detection==0.1) (1.6.3)\n",
            "Requirement already satisfied: google-pasta>=0.1.1 in /usr/local/lib/python3.7/dist-packages (from tensorflow~=2.8.0->tf-models-official==2.8.0->object-detection==0.1) (0.2.0)\n",
            "Requirement already satisfied: wrapt>=1.11.0 in /usr/local/lib/python3.7/dist-packages (from tensorflow~=2.8.0->tf-models-official==2.8.0->object-detection==0.1) (1.14.0)\n",
            "Requirement already satisfied: tensorflow-io-gcs-filesystem>=0.23.1 in /usr/local/lib/python3.7/dist-packages (from tensorflow~=2.8.0->tf-models-official==2.8.0->object-detection==0.1) (0.24.0)\n",
            "Requirement already satisfied: h5py>=2.9.0 in /usr/local/lib/python3.7/dist-packages (from tensorflow~=2.8.0->tf-models-official==2.8.0->object-detection==0.1) (3.1.0)\n",
            "Requirement already satisfied: gast>=0.2.1 in /usr/local/lib/python3.7/dist-packages (from tensorflow~=2.8.0->tf-models-official==2.8.0->object-detection==0.1) (0.5.3)\n",
            "Requirement already satisfied: keras<2.9,>=2.8.0rc0 in /usr/local/lib/python3.7/dist-packages (from tensorflow~=2.8.0->tf-models-official==2.8.0->object-detection==0.1) (2.8.0)\n",
            "Requirement already satisfied: wheel<1.0,>=0.23.0 in /usr/local/lib/python3.7/dist-packages (from astunparse>=1.6.0->tensorflow~=2.8.0->tf-models-official==2.8.0->object-detection==0.1) (0.37.1)\n",
            "Requirement already satisfied: cached-property in /usr/local/lib/python3.7/dist-packages (from h5py>=2.9.0->tensorflow~=2.8.0->tf-models-official==2.8.0->object-detection==0.1) (1.5.2)\n",
            "Requirement already satisfied: markdown>=2.6.8 in /usr/local/lib/python3.7/dist-packages (from tensorboard<2.9,>=2.8->tensorflow~=2.8.0->tf-models-official==2.8.0->object-detection==0.1) (3.3.6)\n",
            "Requirement already satisfied: tensorboard-plugin-wit>=1.6.0 in /usr/local/lib/python3.7/dist-packages (from tensorboard<2.9,>=2.8->tensorflow~=2.8.0->tf-models-official==2.8.0->object-detection==0.1) (1.8.1)\n",
            "Requirement already satisfied: werkzeug>=0.11.15 in /usr/local/lib/python3.7/dist-packages (from tensorboard<2.9,>=2.8->tensorflow~=2.8.0->tf-models-official==2.8.0->object-detection==0.1) (1.0.1)\n",
            "Requirement already satisfied: google-auth-oauthlib<0.5,>=0.4.1 in /usr/local/lib/python3.7/dist-packages (from tensorboard<2.9,>=2.8->tensorflow~=2.8.0->tf-models-official==2.8.0->object-detection==0.1) (0.4.6)\n",
            "Requirement already satisfied: tensorboard-data-server<0.7.0,>=0.6.0 in /usr/local/lib/python3.7/dist-packages (from tensorboard<2.9,>=2.8->tensorflow~=2.8.0->tf-models-official==2.8.0->object-detection==0.1) (0.6.1)\n",
            "Requirement already satisfied: requests-oauthlib>=0.7.0 in /usr/local/lib/python3.7/dist-packages (from google-auth-oauthlib<0.5,>=0.4.1->tensorboard<2.9,>=2.8->tensorflow~=2.8.0->tf-models-official==2.8.0->object-detection==0.1) (1.3.1)\n",
            "Requirement already satisfied: importlib-metadata>=4.4 in /usr/local/lib/python3.7/dist-packages (from markdown>=2.6.8->tensorboard<2.9,>=2.8->tensorflow~=2.8.0->tf-models-official==2.8.0->object-detection==0.1) (4.11.3)\n",
            "Requirement already satisfied: zipp>=0.5 in /usr/local/lib/python3.7/dist-packages (from importlib-metadata>=4.4->markdown>=2.6.8->tensorboard<2.9,>=2.8->tensorflow~=2.8.0->tf-models-official==2.8.0->object-detection==0.1) (3.8.0)\n",
            "Requirement already satisfied: oauthlib>=3.0.0 in /usr/local/lib/python3.7/dist-packages (from requests-oauthlib>=0.7.0->google-auth-oauthlib<0.5,>=0.4.1->tensorboard<2.9,>=2.8->tensorflow~=2.8.0->tf-models-official==2.8.0->object-detection==0.1) (3.2.0)\n",
            "Requirement already satisfied: dm-tree~=0.1.1 in /usr/local/lib/python3.7/dist-packages (from tensorflow-model-optimization>=0.4.1->tf-models-official==2.8.0->object-detection==0.1) (0.1.7)\n",
            "Requirement already satisfied: cycler>=0.10 in /usr/local/lib/python3.7/dist-packages (from matplotlib->tf-models-official==2.8.0->object-detection==0.1) (0.11.0)\n",
            "Requirement already satisfied: kiwisolver>=1.0.1 in /usr/local/lib/python3.7/dist-packages (from matplotlib->tf-models-official==2.8.0->object-detection==0.1) (1.4.2)\n",
            "Requirement already satisfied: text-unidecode>=1.3 in /usr/local/lib/python3.7/dist-packages (from python-slugify->kaggle>=1.3.9->tf-models-official==2.8.0->object-detection==0.1) (1.3)\n",
            "Requirement already satisfied: tabulate>=0.8.9 in /usr/local/lib/python3.7/dist-packages (from sacrebleu->tf-models-official==2.8.0->object-detection==0.1) (0.8.9)\n",
            "Requirement already satisfied: regex in /usr/local/lib/python3.7/dist-packages (from sacrebleu->tf-models-official==2.8.0->object-detection==0.1) (2019.12.20)\n",
            "Collecting portalocker\n",
            "  Downloading portalocker-2.4.0-py2.py3-none-any.whl (16 kB)\n",
            "Collecting colorama\n",
            "  Downloading colorama-0.4.4-py2.py3-none-any.whl (16 kB)\n",
            "Requirement already satisfied: scikit-learn>=0.21.3 in /usr/local/lib/python3.7/dist-packages (from seqeval->tf-models-official==2.8.0->object-detection==0.1) (1.0.2)\n",
            "Requirement already satisfied: threadpoolctl>=2.0.0 in /usr/local/lib/python3.7/dist-packages (from scikit-learn>=0.21.3->seqeval->tf-models-official==2.8.0->object-detection==0.1) (3.1.0)\n",
            "Requirement already satisfied: joblib>=0.11 in /usr/local/lib/python3.7/dist-packages (from scikit-learn>=0.21.3->seqeval->tf-models-official==2.8.0->object-detection==0.1) (1.1.0)\n",
            "Requirement already satisfied: typeguard>=2.7 in /usr/local/lib/python3.7/dist-packages (from tensorflow-addons->tf-models-official==2.8.0->object-detection==0.1) (2.7.1)\n",
            "Requirement already satisfied: dill in /usr/local/lib/python3.7/dist-packages (from tensorflow-datasets->tf-models-official==2.8.0->object-detection==0.1) (0.3.4)\n",
            "Requirement already satisfied: future in /usr/local/lib/python3.7/dist-packages (from tensorflow-datasets->tf-models-official==2.8.0->object-detection==0.1) (0.16.0)\n",
            "Requirement already satisfied: tensorflow-metadata in /usr/local/lib/python3.7/dist-packages (from tensorflow-datasets->tf-models-official==2.8.0->object-detection==0.1) (1.7.0)\n",
            "Requirement already satisfied: promise in /usr/local/lib/python3.7/dist-packages (from tensorflow-datasets->tf-models-official==2.8.0->object-detection==0.1) (2.3)\n",
            "Requirement already satisfied: importlib-resources in /usr/local/lib/python3.7/dist-packages (from tensorflow-datasets->tf-models-official==2.8.0->object-detection==0.1) (5.7.1)\n",
            "Requirement already satisfied: attrs>=18.1.0 in /usr/local/lib/python3.7/dist-packages (from tensorflow-datasets->tf-models-official==2.8.0->object-detection==0.1) (21.4.0)\n",
            "Collecting tensorflow-io-gcs-filesystem>=0.23.1\n",
            "  Downloading tensorflow_io_gcs_filesystem-0.25.0-cp37-cp37m-manylinux_2_12_x86_64.manylinux2010_x86_64.whl (2.1 MB)\n",
            "\u001b[K     |████████████████████████████████| 2.1 MB 39.9 MB/s \n",
            "\u001b[?25hBuilding wheels for collected packages: object-detection, py-cpuinfo, seqeval\n",
            "  Building wheel for object-detection (setup.py) ... \u001b[?25l\u001b[?25hdone\n",
            "  Created wheel for object-detection: filename=object_detection-0.1-py3-none-any.whl size=1692392 sha256=cec81af8249b27e8631cf4d2ce614057be5671adf387631bf7ccfd79d3bb4078\n",
            "  Stored in directory: /tmp/pip-ephem-wheel-cache-3tci5tec/wheels/fa/a4/d2/e9a5057e414fd46c8e543d2706cd836d64e1fcd9eccceb2329\n",
            "  Building wheel for py-cpuinfo (setup.py) ... \u001b[?25l\u001b[?25hdone\n",
            "  Created wheel for py-cpuinfo: filename=py_cpuinfo-8.0.0-py3-none-any.whl size=22257 sha256=5fbcccfa26a4a897af139526f7846a8f838b1c4143c47c7891051af7fc2b7b1c\n",
            "  Stored in directory: /root/.cache/pip/wheels/d2/f1/1f/041add21dc9c4220157f1bd2bd6afe1f1a49524c3396b94401\n",
            "  Building wheel for seqeval (setup.py) ... \u001b[?25l\u001b[?25hdone\n",
            "  Created wheel for seqeval: filename=seqeval-1.2.2-py3-none-any.whl size=16180 sha256=50590f2bf0d30e0916e70179e5df5445e6bc3ddc69649983200e5fd43d5d46e7\n",
            "  Stored in directory: /root/.cache/pip/wheels/05/96/ee/7cac4e74f3b19e3158dce26a20a1c86b3533c43ec72a549fd7\n",
            "Successfully built object-detection py-cpuinfo seqeval\n",
            "Installing collected packages: tf-estimator-nightly, tensorflow-io-gcs-filesystem, portalocker, colorama, tf-slim, tensorflow-text, tensorflow-model-optimization, tensorflow-addons, seqeval, sentencepiece, sacrebleu, pyyaml, py-cpuinfo, opencv-python-headless, tf-models-official, tensorflow-io, object-detection\n",
            "  Attempting uninstall: tensorflow-io-gcs-filesystem\n",
            "    Found existing installation: tensorflow-io-gcs-filesystem 0.24.0\n",
            "    Uninstalling tensorflow-io-gcs-filesystem-0.24.0:\n",
            "      Successfully uninstalled tensorflow-io-gcs-filesystem-0.24.0\n",
            "  Attempting uninstall: pyyaml\n",
            "    Found existing installation: PyYAML 3.13\n",
            "    Uninstalling PyYAML-3.13:\n",
            "      Successfully uninstalled PyYAML-3.13\n",
            "Successfully installed colorama-0.4.4 object-detection-0.1 opencv-python-headless-4.5.5.64 portalocker-2.4.0 py-cpuinfo-8.0.0 pyyaml-5.4.1 sacrebleu-2.0.0 sentencepiece-0.1.96 seqeval-1.2.2 tensorflow-addons-0.16.1 tensorflow-io-0.25.0 tensorflow-io-gcs-filesystem-0.25.0 tensorflow-model-optimization-0.7.2 tensorflow-text-2.8.2 tf-estimator-nightly-2.8.0.dev2021122109 tf-models-official-2.8.0 tf-slim-1.1.0\n"
          ]
        }
      ]
    },
    {
      "cell_type": "code",
      "source": [
        "import matplotlib\n",
        "import matplotlib.pyplot as plt\n",
        "\n",
        "import os\n",
        "import random\n",
        "import zipfile\n",
        "import io\n",
        "import scipy.misc\n",
        "import numpy as np\n",
        "\n",
        "import glob\n",
        "import imageio\n",
        "from six import BytesIO\n",
        "from PIL import Image, ImageDraw, ImageFont\n",
        "from IPython.display import display, Javascript\n",
        "from IPython.display import Image as IPyImage\n",
        "\n",
        "try:\n",
        "  # %tensorflow_version only exists in Colab.\n",
        "  %tensorflow_version 2.x\n",
        "except Exception:\n",
        "  pass\n",
        "\n",
        "import tensorflow as tf\n",
        "tf.get_logger().setLevel('ERROR')"
      ],
      "metadata": {
        "id": "3oO9zf4gzm0H"
      },
      "execution_count": null,
      "outputs": []
    },
    {
      "cell_type": "code",
      "source": [
        "from object_detection.utils import label_map_util\n",
        "from object_detection.utils import config_util\n",
        "from object_detection.utils import visualization_utils as viz_utils\n",
        "from object_detection.builders import model_builder\n",
        "from object_detection.utils import colab_utils"
      ],
      "metadata": {
        "id": "H_mhwzQVzrpT"
      },
      "execution_count": null,
      "outputs": []
    },
    {
      "cell_type": "code",
      "source": [
        "def load_image_into_numpy_array(path):\n",
        "    img_data = tf.io.gfile.GFile(path, 'rb').read()\n",
        "    image = Image.open(BytesIO(img_data))\n",
        "    (im_width, im_height) = image.size\n",
        "    \n",
        "    return np.array(image.getdata()).reshape(\n",
        "        (im_height, im_width, 3)).astype(np.uint8)\n",
        "\n",
        "\n",
        "def plot_detections(image_np,\n",
        "                    boxes,\n",
        "                    classes,\n",
        "                    scores,\n",
        "                    category_index,\n",
        "                    figsize=(12, 16),\n",
        "                    image_name=None):\n",
        "    image_np_with_annotations = image_np.copy()\n",
        "    \n",
        "    viz_utils.visualize_boxes_and_labels_on_image_array(\n",
        "        image_np_with_annotations,\n",
        "        boxes,\n",
        "        classes,\n",
        "        scores,\n",
        "        category_index,\n",
        "        use_normalized_coordinates=True,\n",
        "        min_score_thresh=0.8)\n",
        "    \n",
        "    if image_name:\n",
        "        plt.imsave(image_name, image_np_with_annotations)\n",
        "    \n",
        "    else:\n",
        "        plt.imshow(image_np_with_annotations)\n"
      ],
      "metadata": {
        "id": "eQESSIDuzxdl"
      },
      "execution_count": null,
      "outputs": []
    },
    {
      "cell_type": "code",
      "source": [
        "%matplotlib inline\n",
        "\n",
        "train_image_dir = '/content/drive/MyDrive/football match actions.v8i.tensorflow/train'\n",
        "train_images_np = []\n",
        "dirs=['/content/drive/MyDrive/football match actions.v9i.tensorflow/train/goals10115_jpg.rf.f36264dc0682149e66e790774615cc80.jpg',\n",
        "     '/content/drive/MyDrive/football match actions.v9i.tensorflow/train/goals10116_jpg.rf.2afde043f1bc41f7016f3655512349d9.jpg',\n",
        "      '/content/drive/MyDrive/football match actions.v9i.tensorflow/train/goals10201_jpg.rf.dbf2cf5d7e51c422a44ecf52d7d82b2d.jpg',\n",
        "      '/content/drive/MyDrive/football match actions.v9i.tensorflow/train/goals10348_jpg.rf.aa99c637a9674034d55fdfecfce5038b.jpg',\n",
        "      '/content/drive/MyDrive/football match actions.v9i.tensorflow/train/goals10426_jpg.rf.6b2e2f9c56bd466c42c373c252d568b9.jpg',\n",
        "      '/content/drive/MyDrive/football match actions.v9i.tensorflow/train/goals10438_jpg.rf.39ef200c61eb56e89ae57537578b2617.jpg',\n",
        "      '/content/drive/MyDrive/football match actions.v9i.tensorflow/train/goals10888_jpg.rf.5bb736445448747f3e3ad0ee851b9872.jpg',\n",
        "      '/content/drive/MyDrive/football match actions.v9i.tensorflow/train/goals11218_jpg.rf.43082e986ebf305eb3e5ada5e17fff9c.jpg',\n",
        "      '/content/drive/MyDrive/football match actions.v9i.tensorflow/train/goals11735_jpg.rf.5b07a160eb2aa87a6d7f94fcbea3a96f.jpg',\n",
        "      '/content/drive/MyDrive/football match actions.v9i.tensorflow/train/goals12099_jpg.rf.83b39b4c9ee894b1a88ff72e4bc59795.jpg',\n",
        "      '/content/drive/MyDrive/football match actions.v9i.tensorflow/train/goals12559_jpg.rf.9408c73c7c9f5b500b22e663b91acf60.jpg',\n",
        "      '/content/drive/MyDrive/football match actions.v9i.tensorflow/train/goals12815_jpg.rf.f4cd1e0ef6b24ffb4940d56b5731d9cc.jpg',\n",
        "      '/content/drive/MyDrive/football match actions.v9i.tensorflow/train/goals14028_jpg.rf.1b1129370437f57a9ca43959f3309911.jpg'\n",
        "      ]\n",
        "for i in range(len(dirs)):\n",
        "\n",
        "    # define the path (string) for each image\n",
        "    image_path = dirs[i]\n",
        "    #os.path.join(train_image_dir+dirs+'.jpg')\n",
        "    print(image_path)\n",
        "    # load images into numpy arrays and append to a list\n",
        "    train_images_np.append(load_image_into_numpy_array(image_path))\n",
        "\n",
        "plt.rcParams['axes.grid'] = False\n",
        "plt.rcParams['xtick.labelsize'] = False\n",
        "plt.rcParams['ytick.labelsize'] = False\n",
        "plt.rcParams['xtick.top'] = False\n",
        "plt.rcParams['xtick.bottom'] = False\n",
        "plt.rcParams['ytick.left'] = False\n",
        "plt.rcParams['ytick.right'] = False\n",
        "plt.rcParams['figure.figsize'] = [14, 7]\n",
        "\n",
        "# plot images\n",
        "for idx, train_image_np in enumerate(train_images_np):\n",
        "    plt.subplot(1, len(dirs), idx+1)\n",
        "    plt.imshow(train_image_np)\n",
        "\n",
        "plt.show()"
      ],
      "metadata": {
        "colab": {
          "base_uri": "https://localhost:8080/",
          "height": 294
        },
        "id": "G7AEDwF0z1ES",
        "outputId": "1ff842f3-0db7-4715-cbc2-673b61b46d39"
      },
      "execution_count": null,
      "outputs": [
        {
          "output_type": "stream",
          "name": "stdout",
          "text": [
            "/content/drive/MyDrive/football match actions.v9i.tensorflow/train/goals10115_jpg.rf.f36264dc0682149e66e790774615cc80.jpg\n",
            "/content/drive/MyDrive/football match actions.v9i.tensorflow/train/goals10116_jpg.rf.2afde043f1bc41f7016f3655512349d9.jpg\n",
            "/content/drive/MyDrive/football match actions.v9i.tensorflow/train/goals10201_jpg.rf.dbf2cf5d7e51c422a44ecf52d7d82b2d.jpg\n",
            "/content/drive/MyDrive/football match actions.v9i.tensorflow/train/goals10348_jpg.rf.aa99c637a9674034d55fdfecfce5038b.jpg\n",
            "/content/drive/MyDrive/football match actions.v9i.tensorflow/train/goals10426_jpg.rf.6b2e2f9c56bd466c42c373c252d568b9.jpg\n",
            "/content/drive/MyDrive/football match actions.v9i.tensorflow/train/goals10438_jpg.rf.39ef200c61eb56e89ae57537578b2617.jpg\n",
            "/content/drive/MyDrive/football match actions.v9i.tensorflow/train/goals10888_jpg.rf.5bb736445448747f3e3ad0ee851b9872.jpg\n",
            "/content/drive/MyDrive/football match actions.v9i.tensorflow/train/goals11218_jpg.rf.43082e986ebf305eb3e5ada5e17fff9c.jpg\n",
            "/content/drive/MyDrive/football match actions.v9i.tensorflow/train/goals11735_jpg.rf.5b07a160eb2aa87a6d7f94fcbea3a96f.jpg\n",
            "/content/drive/MyDrive/football match actions.v9i.tensorflow/train/goals12099_jpg.rf.83b39b4c9ee894b1a88ff72e4bc59795.jpg\n",
            "/content/drive/MyDrive/football match actions.v9i.tensorflow/train/goals12559_jpg.rf.9408c73c7c9f5b500b22e663b91acf60.jpg\n",
            "/content/drive/MyDrive/football match actions.v9i.tensorflow/train/goals12815_jpg.rf.f4cd1e0ef6b24ffb4940d56b5731d9cc.jpg\n",
            "/content/drive/MyDrive/football match actions.v9i.tensorflow/train/goals14028_jpg.rf.1b1129370437f57a9ca43959f3309911.jpg\n"
          ]
        },
        {
          "output_type": "display_data",
          "data": {
            "text/plain": [
              "<Figure size 1008x504 with 13 Axes>"
            ],
            "image/png": "[encoded data removed]"
          },
          "metadata": {
            "needs_background": "light"
          }
        }
      ]
    },
    {
      "cell_type": "code",
      "source": [
        "gt_boxes = []"
      ],
      "metadata": {
        "id": "Bjg1jZ3607_M"
      },
      "execution_count": null,
      "outputs": []
    },
    {
      "cell_type": "code",
      "source": [
        "colab_utils.annotate(train_images_np, box_storage_pointer=gt_boxes)"
      ],
      "metadata": {
        "colab": {
          "base_uri": "https://localhost:8080/",
          "height": 756
        },
        "id": "zfnbGb4t1Law",
        "outputId": "2693adb2-a6ee-4e32-838a-59b8d2648913"
      },
      "execution_count": null,
      "outputs": [
        {
          "output_type": "display_data",
          "data": {
            "text/plain": [
              "<IPython.core.display.Javascript object>"
            ],
            "application/javascript": [
              "\n",
              "              async function load_image(imgs, callbackId) {\n",
              "                  //init organizational elements\n",
              "                  const div = document.createElement('div');\n",
              "                  var image_cont = document.createElement('div');\n",
              "                  var errorlog = document.createElement('div');\n",
              "                  var crosshair_h = document.createElement('div');\n",
              "                  crosshair_h.style.position = \"absolute\";\n",
              "                  crosshair_h.style.backgroundColor = \"transparent\";\n",
              "                  crosshair_h.style.width = \"100%\";\n",
              "                  crosshair_h.style.height = \"0px\";\n",
              "                  crosshair_h.style.zIndex = 9998;\n",
              "                  crosshair_h.style.borderStyle = \"dotted\";\n",
              "                  crosshair_h.style.borderWidth = \"2px\";\n",
              "                  crosshair_h.style.borderColor = \"rgba(255, 0, 0, 0.75)\";\n",
              "                  crosshair_h.style.cursor = \"crosshair\";\n",
              "                  var crosshair_v = document.createElement('div');\n",
              "                  crosshair_v.style.position = \"absolute\";\n",
              "                  crosshair_v.style.backgroundColor = \"transparent\";\n",
              "                  crosshair_v.style.width = \"0px\";\n",
              "                  crosshair_v.style.height = \"100%\";\n",
              "                  crosshair_v.style.zIndex = 9999;\n",
              "                  crosshair_v.style.top = \"0px\";\n",
              "                  crosshair_v.style.borderStyle = \"dotted\";\n",
              "                  crosshair_v.style.borderWidth = \"2px\";\n",
              "                  crosshair_v.style.borderColor = \"rgba(255, 0, 0, 0.75)\";\n",
              "                  crosshair_v.style.cursor = \"crosshair\";\n",
              "                  crosshair_v.style.marginTop = \"23px\";\n",
              "                  var brdiv = document.createElement('br');\n",
              "\n",
              "\n",
              "                  //init control elements\n",
              "                  var next = document.createElement('button');\n",
              "                  var prev = document.createElement('button');\n",
              "                  var submit = document.createElement('button');\n",
              "                  var deleteButton = document.createElement('button');\n",
              "                  var deleteAllbutton = document.createElement('button');\n",
              "\n",
              "                  //init image containers\n",
              "                  var image = new Image();\n",
              "                  var canvas_img = document.createElement('canvas');\n",
              "                  var ctx = canvas_img.getContext(\"2d\");\n",
              "                  canvas_img.style.cursor = \"crosshair\";\n",
              "                  canvas_img.setAttribute('draggable', false);\n",
              "                  crosshair_v.setAttribute('draggable', false);\n",
              "                  crosshair_h.setAttribute('draggable', false);\n",
              "\n",
              "                  // bounding box containers\n",
              "                  const height = 600\n",
              "                  var allBoundingBoxes = [];\n",
              "                  var curr_image = 0\n",
              "                  var im_height = 0;\n",
              "                  var im_width = 0;\n",
              "\n",
              "                  //initialize bounding boxes\n",
              "                  for (var i = 0; i < imgs.length; i++) {\n",
              "                    allBoundingBoxes[i] = [];\n",
              "                  }\n",
              "                  //initialize image view\n",
              "                  errorlog.id = 'errorlog';\n",
              "                  image.style.display = 'block';\n",
              "                  image.setAttribute('draggable', false);\n",
              "\n",
              "                  //load the first image\n",
              "                  img = imgs[curr_image];\n",
              "                  image.src = \"data:image/png;base64,\" + img;\n",
              "                  image.onload = function() {\n",
              "                      // normalize display height and canvas\n",
              "                      image.height = height;\n",
              "                      image_cont.height = canvas_img.height = image.height;\n",
              "                      image_cont.width = canvas_img.width = image.naturalWidth;\n",
              "                      crosshair_v.style.height = image_cont.height + \"px\";\n",
              "                      crosshair_h.style.width = image_cont.width + \"px\";\n",
              "\n",
              "                      // draw the new image\n",
              "                      ctx.drawImage(image, 0, 0, image.naturalWidth, image.naturalHeight, 0, 0,  canvas_img.width,  canvas_img.height);\n",
              "\n",
              "                  };\n",
              "\n",
              "                  // move to next image in array\n",
              "                  next.textContent = \"next image\";\n",
              "                  next.onclick = function(){\n",
              "                      if (curr_image < imgs.length - 1){\n",
              "                          // clear canvas and load new image\n",
              "                          curr_image += 1;\n",
              "                          errorlog.innerHTML = \"\";\n",
              "                      }\n",
              "                      else{\n",
              "                          errorlog.innerHTML = \"All images completed!!\";\n",
              "                      }\n",
              "                      resetcanvas();\n",
              "                  }\n",
              "\n",
              "                  //move forward through list of images\n",
              "                  prev.textContent = \"prev image\"\n",
              "                  prev.onclick = function(){\n",
              "                      if (curr_image > 0){\n",
              "                          // clear canvas and load new image\n",
              "                          curr_image -= 1;\n",
              "                          errorlog.innerHTML = \"\";\n",
              "                      }\n",
              "                      else{\n",
              "                          errorlog.innerHTML = \"at the beginning\";\n",
              "                      }\n",
              "                      resetcanvas();\n",
              "                  }\n",
              "                  // on delete, deletes the last bounding box\n",
              "                  deleteButton.textContent = \"undo bbox\";\n",
              "                  deleteButton.onclick = function(){\n",
              "                    boundingBoxes.pop();\n",
              "                    ctx.clearRect(0, 0, canvas_img.width, canvas_img.height);\n",
              "                    image.src = \"data:image/png;base64,\" + img;\n",
              "                    image.onload = function() {\n",
              "                        ctx.drawImage(image, 0, 0, image.naturalWidth, image.naturalHeight, 0, 0,  canvas_img.width,  canvas_img.height);\n",
              "                        boundingBoxes.map(r => {drawRect(r)});\n",
              "                    };\n",
              "                  }\n",
              "                  // on all delete, deletes all of the bounding box\n",
              "                  deleteAllbutton.textContent = \"delete all\"\n",
              "                  deleteAllbutton.onclick = function(){\n",
              "                    boundingBoxes = [];\n",
              "                    ctx.clearRect(0, 0, canvas_img.width, canvas_img.height);\n",
              "                    image.src = \"data:image/png;base64,\" + img;\n",
              "                    image.onload = function() {\n",
              "                        ctx.drawImage(image, 0, 0, image.naturalWidth, image.naturalHeight, 0, 0,  canvas_img.width,  canvas_img.height);\n",
              "                        //boundingBoxes.map(r => {drawRect(r)});\n",
              "                    };\n",
              "                  }\n",
              "\n",
              "                  // on submit, send the boxes to display\n",
              "                  submit.textContent = \"submit\";\n",
              "                  submit.onclick = function(){\n",
              "                    errorlog.innerHTML = \"\";\n",
              "\n",
              "                    // send box data to callback fucntion\n",
              "                    google.colab.kernel.invokeFunction(callbackId, [allBoundingBoxes], {});\n",
              "                  }\n",
              "\n",
              "                // init template for annotations\n",
              "                const annotation = {\n",
              "                      x: 0,\n",
              "                      y: 0,\n",
              "                      w: 0,\n",
              "                      h: 0,\n",
              "                };\n",
              "\n",
              "                // the array of all rectangles\n",
              "                let boundingBoxes = allBoundingBoxes[curr_image];\n",
              "\n",
              "                // the actual rectangle, the one that is being drawn\n",
              "                let o = {};\n",
              "\n",
              "                // a variable to store the mouse position\n",
              "                let m = {},\n",
              "\n",
              "                // a variable to store the point where you begin to draw the\n",
              "                // rectangle\n",
              "                start = {};\n",
              "\n",
              "                // a boolean variable to store the drawing state\n",
              "                let isDrawing = false;\n",
              "                var elem = null;\n",
              "\n",
              "                function handleMouseDown(e) {\n",
              "                  // on mouse click set change the cursor and start tracking the mouse position\n",
              "                  start = oMousePos(canvas_img, e);\n",
              "\n",
              "                  // configure is drawing to true\n",
              "                  isDrawing = true;\n",
              "                }\n",
              "\n",
              "                function handleMouseMove(e) {\n",
              "                    // move crosshairs, but only within the bounds of the canvas\n",
              "                    if (document.elementsFromPoint(e.pageX, e.pageY).includes(canvas_img)) {\n",
              "                      crosshair_h.style.top = e.pageY + \"px\";\n",
              "                      crosshair_v.style.left = e.pageX + \"px\";\n",
              "                    }\n",
              "\n",
              "                    // move the bounding box\n",
              "                    if(isDrawing){\n",
              "                      m = oMousePos(canvas_img, e);\n",
              "                      draw();\n",
              "                    }\n",
              "                }\n",
              "\n",
              "                function handleMouseUp(e) {\n",
              "                    if (isDrawing) {\n",
              "                        // on mouse release, push a bounding box to array and draw all boxes\n",
              "                        isDrawing = false;\n",
              "\n",
              "                        const box = Object.create(annotation);\n",
              "\n",
              "                        // calculate the position of the rectangle\n",
              "                        if (o.w > 0){\n",
              "                          box.x = o.x;\n",
              "                        }\n",
              "                        else{\n",
              "                          box.x = o.x + o.w;\n",
              "                        }\n",
              "                        if (o.h > 0){\n",
              "                          box.y = o.y;\n",
              "                        }\n",
              "                        else{\n",
              "                          box.y = o.y + o.h;\n",
              "                        }\n",
              "                        box.w = Math.abs(o.w);\n",
              "                        box.h = Math.abs(o.h);\n",
              "\n",
              "                        // add the bounding box to the image\n",
              "                        boundingBoxes.push(box);\n",
              "                        draw();\n",
              "                    }\n",
              "                }\n",
              "\n",
              "                function draw() {\n",
              "                    o.x = (start.x)/image.width;  // start position of x\n",
              "                    o.y = (start.y)/image.height;  // start position of y\n",
              "                    o.w = (m.x - start.x)/image.width;  // width\n",
              "                    o.h = (m.y - start.y)/image.height;  // height\n",
              "\n",
              "                    ctx.clearRect(0, 0, canvas_img.width, canvas_img.height);\n",
              "                    ctx.drawImage(image, 0, 0, image.naturalWidth, image.naturalHeight, 0, 0,  canvas_img.width,  canvas_img.height);\n",
              "                    // draw all the rectangles saved in the rectsRy\n",
              "                    boundingBoxes.map(r => {drawRect(r)});\n",
              "                    // draw the actual rectangle\n",
              "                    drawRect(o);\n",
              "                }\n",
              "\n",
              "                // add the handlers needed for dragging\n",
              "                crosshair_h.addEventListener(\"mousedown\", handleMouseDown);\n",
              "                crosshair_v.addEventListener(\"mousedown\", handleMouseDown);\n",
              "                document.addEventListener(\"mousemove\", handleMouseMove);\n",
              "                document.addEventListener(\"mouseup\", handleMouseUp);\n",
              "\n",
              "\n",
              "                function resetcanvas(){\n",
              "                    // clear canvas\n",
              "                    ctx.clearRect(0, 0, canvas_img.width, canvas_img.height);\n",
              "                    img = imgs[curr_image]\n",
              "                    image.src = \"data:image/png;base64,\" + img;\n",
              "\n",
              "                    // onload init new canvas and display image\n",
              "                    image.onload = function() {\n",
              "                        // normalize display height and canvas\n",
              "                        image.height = height;\n",
              "                        image_cont.height = canvas_img.height = image.height;\n",
              "                        image_cont.width = canvas_img.width = image.naturalWidth;\n",
              "                        crosshair_v.style.height = image_cont.height + \"px\";\n",
              "                        crosshair_h.style.width = image_cont.width + \"px\";\n",
              "\n",
              "                        // draw the new image\n",
              "                        ctx.drawImage(image, 0, 0, image.naturalWidth, image.naturalHeight, 0, 0,  canvas_img.width,  canvas_img.height);\n",
              "\n",
              "                        // draw bounding boxes\n",
              "                        boundingBoxes = allBoundingBoxes[curr_image];\n",
              "                        boundingBoxes.map(r => {drawRect(r)});\n",
              "                    };\n",
              "                }\n",
              "\n",
              "                function drawRect(o){\n",
              "                    // draw a predefined rectangle\n",
              "                    ctx.strokeStyle = \"red\";\n",
              "                    ctx.lineWidth = 2;\n",
              "                    ctx.beginPath(o);\n",
              "                    ctx.rect(o.x * image.width, o.y * image.height, o.w * image.width, o.h * image.height);\n",
              "                    ctx.stroke();\n",
              "                }\n",
              "\n",
              "                // Function to detect the mouse position\n",
              "                function oMousePos(canvas_img, evt) {\n",
              "                  let ClientRect = canvas_img.getBoundingClientRect();\n",
              "                    return {\n",
              "                      x: evt.clientX - ClientRect.left,\n",
              "                      y: evt.clientY - ClientRect.top\n",
              "                    };\n",
              "                }\n",
              "\n",
              "\n",
              "                //configure colab output display\n",
              "                google.colab.output.setIframeHeight(document.documentElement.scrollHeight, true);\n",
              "\n",
              "                //build the html document that will be seen in output\n",
              "                div.appendChild(document.createElement('br'))\n",
              "                div.appendChild(image_cont)\n",
              "                image_cont.appendChild(canvas_img)\n",
              "                image_cont.appendChild(crosshair_h)\n",
              "                image_cont.appendChild(crosshair_v)\n",
              "                div.appendChild(document.createElement('br'))\n",
              "                div.appendChild(errorlog)\n",
              "                div.appendChild(prev)\n",
              "                div.appendChild(next)\n",
              "                div.appendChild(deleteButton)\n",
              "                div.appendChild(deleteAllbutton)\n",
              "                div.appendChild(document.createElement('br'))\n",
              "                div.appendChild(brdiv)\n",
              "                div.appendChild(submit)\n",
              "                document.querySelector(\"#output-area\").appendChild(div);\n",
              "                return\n",
              "            }"
            ]
          },
          "metadata": {}
        },
        {
          "output_type": "display_data",
          "data": {
            "text/plain": [
              "<IPython.core.display.Javascript object>"
            ],
            "application/javascript": [
              "window[\"f42b9dc6-c770-11ec-9f80-0242ac1c0002\"] = google.colab.output.getActiveOutputArea();\n",
              "//# sourceURL=js_f4446f83bc"
            ]
          },
          "metadata": {}
        },
        {
          "output_type": "display_data",
          "data": {
            "text/plain": [
              "<IPython.core.display.Javascript object>"
            ],
            "application/javascript": [
              "window[\"f42c151c-c770-11ec-9f80-0242ac1c0002\"] = document.querySelector(\"#errorlog\");\n",
              "//# sourceURL=js_eb3e384024"
            ]
          },
          "metadata": {}
        },
        {
          "output_type": "display_data",
          "data": {
            "text/plain": [
              "<IPython.core.display.Javascript object>"
            ],
            "application/javascript": [
              "window[\"f42c9000-c770-11ec-9f80-0242ac1c0002\"] = google.colab.output.setActiveOutputArea(window[\"f42c151c-c770-11ec-9f80-0242ac1c0002\"]);\n",
              "//# sourceURL=js_dff2abdea3"
            ]
          },
          "metadata": {}
        },
        {
          "output_type": "display_data",
          "data": {
            "text/plain": [
              "'--boxes array populated--'"
            ],
            "application/vnd.google.colaboratory.intrinsic+json": {
              "type": "string"
            }
          },
          "metadata": {}
        },
        {
          "output_type": "display_data",
          "data": {
            "text/plain": [
              "<IPython.core.display.Javascript object>"
            ],
            "application/javascript": [
              "window[\"f42d4bf8-c770-11ec-9f80-0242ac1c0002\"] = google.colab.output.setActiveOutputArea(window[\"f42b9dc6-c770-11ec-9f80-0242ac1c0002\"]);\n",
              "//# sourceURL=js_a9ef917ffa"
            ]
          },
          "metadata": {}
        },
        {
          "output_type": "display_data",
          "data": {
            "text/plain": [
              "<IPython.core.display.Javascript object>"
            ],
            "application/javascript": [
              "window[\"3a1d96c2-c771-11ec-9f80-0242ac1c0002\"] = google.colab.output.getActiveOutputArea();\n",
              "//# sourceURL=js_488e507f51"
            ]
          },
          "metadata": {}
        },
        {
          "output_type": "display_data",
          "data": {
            "text/plain": [
              "<IPython.core.display.Javascript object>"
            ],
            "application/javascript": [
              "window[\"3a1e31b8-c771-11ec-9f80-0242ac1c0002\"] = document.querySelector(\"#errorlog\");\n",
              "//# sourceURL=js_cefefe5c28"
            ]
          },
          "metadata": {}
        },
        {
          "output_type": "display_data",
          "data": {
            "text/plain": [
              "<IPython.core.display.Javascript object>"
            ],
            "application/javascript": [
              "window[\"3a1ebfac-c771-11ec-9f80-0242ac1c0002\"] = google.colab.output.setActiveOutputArea(window[\"3a1e31b8-c771-11ec-9f80-0242ac1c0002\"]);\n",
              "//# sourceURL=js_fed204ee71"
            ]
          },
          "metadata": {}
        },
        {
          "output_type": "display_data",
          "data": {
            "text/plain": [
              "'--boxes array populated--'"
            ],
            "application/vnd.google.colaboratory.intrinsic+json": {
              "type": "string"
            }
          },
          "metadata": {}
        },
        {
          "output_type": "display_data",
          "data": {
            "text/plain": [
              "<IPython.core.display.Javascript object>"
            ],
            "application/javascript": [
              "window[\"3a1f884c-c771-11ec-9f80-0242ac1c0002\"] = google.colab.output.setActiveOutputArea(window[\"3a1d96c2-c771-11ec-9f80-0242ac1c0002\"]);\n",
              "//# sourceURL=js_55b34efc78"
            ]
          },
          "metadata": {}
        },
        {
          "output_type": "display_data",
          "data": {
            "text/plain": [
              "<IPython.core.display.Javascript object>"
            ],
            "application/javascript": [
              "window[\"6a8bce96-c771-11ec-9f80-0242ac1c0002\"] = google.colab.output.getActiveOutputArea();\n",
              "//# sourceURL=js_21577cdd22"
            ]
          },
          "metadata": {}
        },
        {
          "output_type": "display_data",
          "data": {
            "text/plain": [
              "<IPython.core.display.Javascript object>"
            ],
            "application/javascript": [
              "window[\"6a8c691e-c771-11ec-9f80-0242ac1c0002\"] = document.querySelector(\"#errorlog\");\n",
              "//# sourceURL=js_d68f3b3992"
            ]
          },
          "metadata": {}
        },
        {
          "output_type": "display_data",
          "data": {
            "text/plain": [
              "<IPython.core.display.Javascript object>"
            ],
            "application/javascript": [
              "window[\"6a8cd200-c771-11ec-9f80-0242ac1c0002\"] = google.colab.output.setActiveOutputArea(window[\"6a8c691e-c771-11ec-9f80-0242ac1c0002\"]);\n",
              "//# sourceURL=js_e9fc9b468b"
            ]
          },
          "metadata": {}
        },
        {
          "output_type": "display_data",
          "data": {
            "text/plain": [
              "'--boxes array populated--'"
            ],
            "application/vnd.google.colaboratory.intrinsic+json": {
              "type": "string"
            }
          },
          "metadata": {}
        },
        {
          "output_type": "display_data",
          "data": {
            "text/plain": [
              "<IPython.core.display.Javascript object>"
            ],
            "application/javascript": [
              "window[\"6a8d9794-c771-11ec-9f80-0242ac1c0002\"] = google.colab.output.setActiveOutputArea(window[\"6a8bce96-c771-11ec-9f80-0242ac1c0002\"]);\n",
              "//# sourceURL=js_651d4aebd2"
            ]
          },
          "metadata": {}
        }
      ]
    },
    {
      "cell_type": "code",
      "source": [
        "for gt_box in gt_boxes:\n",
        "  print(gt_box)"
      ],
      "metadata": {
        "colab": {
          "base_uri": "https://localhost:8080/"
        },
        "id": "S92EbsQS35mM",
        "outputId": "bded521b-2e68-48b5-c0c2-9e312b9fc922"
      },
      "execution_count": null,
      "outputs": [
        {
          "output_type": "stream",
          "name": "stdout",
          "text": [
            "[[0.38108333 0.26640625 0.47441667 0.3296875 ]\n",
            " [0.39275    0.33203125 0.52108333 0.375     ]\n",
            " [0.38941667 0.40625    0.57608333 0.4671875 ]\n",
            " [0.32941667 0.47265625 0.56775    0.5984375 ]\n",
            " [0.31775    0.68046875 0.46608333 0.7140625 ]\n",
            " [0.35775    0.72421875 0.52608333 0.759375  ]\n",
            " [0.31108333 0.76875    0.47441667 0.80546875]\n",
            " [0.35775    0.80890626 0.49108333 0.85734376]\n",
            " [0.51775    0.74875001 0.69441667 0.79562501]\n",
            " [0.26275    0.86671876 0.42108333 0.91515626]]\n",
            "[[0.38441667 0.270625   0.48108333 0.3315625 ]\n",
            " [0.39108333 0.34171875 0.52775    0.3784375 ]\n",
            " [0.38941667 0.420625   0.56108333 0.53234375]\n",
            " [0.31775    0.52765625 0.48108333 0.62609375]\n",
            " [0.33108333 0.68703125 0.48608333 0.7284375 ]\n",
            " [0.35608333 0.7378125  0.52775    0.7721875 ]\n",
            " [0.30441667 0.7675     0.45108333 0.8159375 ]\n",
            " [0.51941667 0.76515625 0.69108333 0.8096875 ]\n",
            " [0.35775    0.820625   0.50275    0.86203125]\n",
            " [0.25108333 0.86281251 0.39941667 0.92843751]]\n",
            "[[0.20108333 0.14609375 0.34608333 0.2109375 ]\n",
            " [0.16275    0.23515625 0.27441667 0.2703125 ]\n",
            " [0.02441667 0.15703125 0.15775    0.1984375 ]\n",
            " [0.02941667 0.25234375 0.14608333 0.303125  ]\n",
            " [0.23608333 0.27734375 0.36275    0.315625  ]\n",
            " [0.35775    0.35703125 0.49108333 0.40546875]\n",
            " [0.58941667 0.46484375 0.68608333 0.5703125 ]\n",
            " [0.28441667 0.40234375 0.42441667 0.44765625]\n",
            " [0.12108333 0.39296875 0.26441667 0.43359375]\n",
            " [0.26608333 0.54140625 0.41441667 0.5859375 ]\n",
            " [0.29275    0.6171875  0.51441667 0.709375  ]\n",
            " [0.78608333 0.7015625  0.82775    0.7234375 ]]\n",
            "[[0.39775    0.14609375 0.56108333 0.190625  ]\n",
            " [0.35941667 0.2953125  0.50775    0.3328125 ]\n",
            " [0.30441667 0.31875    0.39775    0.3828125 ]\n",
            " [0.37275    0.48984375 0.53441667 0.52890625]\n",
            " [0.35775    0.57734375 0.58275    0.653125  ]\n",
            " [0.32441667 0.65703125 0.51441667 0.709375  ]\n",
            " [0.23775    0.72109375 0.40275    0.75390625]\n",
            " [0.49108333 0.85187501 0.66108333 0.90421876]\n",
            " [0.35108333 0.86437501 0.50108333 0.94171876]]\n",
            "[[0.29775    0.30859375 0.40275    0.3484375 ]\n",
            " [0.33941667 0.24609375 0.39275    0.29140625]\n",
            " [0.43108333 0.34609375 0.61441667 0.38984375]\n",
            " [0.38275    0.4171875  0.52108333 0.45859375]\n",
            " [0.37775    0.6375     0.55108333 0.6828125 ]\n",
            " [0.33775    0.7796875  0.54608333 0.8359375 ]\n",
            " [0.29108333 0.68984375 0.48775    0.7546875 ]\n",
            " [0.21608333 0.65703125 0.33441667 0.7015625 ]\n",
            " [0.09108333 0.8390625  0.22108333 0.88000001]]\n",
            "[[0.28608333 0.3453125  0.42275    0.38671875]\n",
            " [0.36441667 0.4546875  0.51608333 0.4984375 ]\n",
            " [0.45775    0.39375    0.62275    0.43984375]\n",
            " [0.32441667 0.6796875  0.54275    0.734375  ]\n",
            " [0.28941667 0.7515625  0.49441667 0.8109375 ]\n",
            " [0.20775    0.70078125 0.34775    0.73359375]\n",
            " [0.32108333 0.8265625  0.49441667 0.85859375]\n",
            " [0.40608333 0.85656251 0.59441667 0.90656251]]\n",
            "[[0.30275    0.4921875  0.49441667 0.559375  ]\n",
            " [0.67108333 0.51484375 0.76608333 0.5734375 ]]\n",
            "[[0.35108333 0.621875   0.37941667 0.6359375 ]\n",
            " [0.48775    0.60234375 0.76608333 0.66953125]\n",
            " [0.66441667 0.45625    0.84441667 0.5359375 ]\n",
            " [0.53275    0.17109375 0.69608333 0.2109375 ]\n",
            " [0.35941667 0.37421875 0.51608333 0.41484375]\n",
            " [0.34775    0.34609375 0.46775    0.3765625 ]\n",
            " [0.32108333 0.3078125  0.44941667 0.34609375]\n",
            " [0.36608333 0.175      0.47108333 0.21328125]\n",
            " [0.37775    0.13984375 0.50775    0.17734375]\n",
            " [0.23608333 0.1109375  0.35108333 0.15078125]\n",
            " [0.26108333 0.2078125  0.38108333 0.23203125]\n",
            " [0.48775    0.296875   0.62775    0.33515625]\n",
            " [0.38275    0.41328125 0.44275    0.475     ]]\n",
            "[[0.41108333 0.78359375 0.45108333 0.803125  ]\n",
            " [0.24608333 0.63046875 0.38775    0.66875   ]\n",
            " [0.31775    0.50859375 0.55441667 0.57578125]\n",
            " [0.05275    0.39375    0.50941667 0.490625  ]\n",
            " [0.51941667 0.43984375 0.72775    0.48515625]\n",
            " [0.49108333 0.2078125  0.69441667 0.24375   ]\n",
            " [0.70108333 0.02421875 0.92441667 0.08046875]]\n",
            "[[0.29775    0.771875   0.33941667 0.79296875]\n",
            " [0.51775    0.64921875 0.66775    0.6953125 ]\n",
            " [0.47441667 0.61953125 0.61608333 0.65859375]\n",
            " [0.28441667 0.60859375 0.36108333 0.68828125]\n",
            " [0.23275    0.1578125  0.37108333 0.1859375 ]\n",
            " [0.41275    0.26328125 0.55608333 0.30546875]\n",
            " [0.74108333 0.36484375 0.92441667 0.40078125]\n",
            " [0.79108333 0.67734375 0.94941667 0.728125  ]\n",
            " [0.30108333 0.41875    0.45441667 0.46015625]\n",
            " [0.26941667 0.38125    0.39441667 0.4203125 ]\n",
            " [0.18441667 0.425      0.30108333 0.4625    ]\n",
            " [0.32441667 0.52890625 0.51775    0.615625  ]\n",
            " [0.67441667 0.85031251 0.84608333 0.91046876]]\n",
            "[[0.35108333 0.26328125 0.45775    0.34296875]\n",
            " [0.41108333 0.41484375 0.61608333 0.46484375]\n",
            " [0.32275    0.4671875  0.51275    0.55625   ]\n",
            " [0.32108333 0.675      0.47441667 0.7171875 ]\n",
            " [0.69108333 0.6390625  0.89108333 0.70234375]\n",
            " [0.54941667 0.6484375  0.69441667 0.69453125]\n",
            " [0.46275    0.73671875 0.75941667 0.784375  ]\n",
            " [0.24608333 0.78671875 0.46108333 0.8421875 ]\n",
            " [0.67775    0.82453126 0.88608333 0.87375001]\n",
            " [0.30275    0.85500001 0.49441667 0.90265626]]\n",
            "[[0.46775    0.         0.94108333 0.078125  ]\n",
            " [0.51775    0.409375   0.58275    0.4515625 ]\n",
            " [0.56108333 0.41015625 0.97775    0.5140625 ]\n",
            " [0.42275    0.56171875 0.94108333 0.90671875]\n",
            " [0.60275    0.86515626 0.96775    0.99796876]]\n",
            "[[0.31941667 0.41953125 0.59441667 0.5484375 ]\n",
            " [0.35775    0.09921875 0.56775    0.2       ]\n",
            " [0.18775    0.18125    0.33775    0.2109375 ]\n",
            " [0.26775    0.2859375  0.42108333 0.33046875]\n",
            " [0.61108333 0.4203125  0.81608333 0.47578125]\n",
            " [0.52608333 0.74718751 0.71441667 0.80421876]\n",
            " [0.34775    0.61671876 0.62775    0.68937501]\n",
            " [0.41441667 0.70500001 0.72441667 0.78859376]]\n"
          ]
        }
      ]
    },
    {
      "cell_type": "code",
      "source": [
        "player_class_id = 1\n",
        "players_class_id=2\n",
        "ball_class_id=3\n",
        "referee_class_id=4\n",
        "\n",
        "\n",
        "category_index = {player_class_id:{'id':player_class_id,'name':'player'},\n",
        "                  players_class_id:{'id':players_class_id,'name':'players'},\n",
        "                  ball_class_id:{'id':ball_class_id,'name':'ball'},\n",
        "                  referee_class_id:{'id':referee_class_id,'name':'referee'}\n",
        "                  }\n",
        "\n",
        "num_classes =len(category_index)"
      ],
      "metadata": {
        "id": "M95JXaLm5DXQ"
      },
      "execution_count": null,
      "outputs": []
    },
    {
      "cell_type": "code",
      "source": [
        "label_id_offset = 1\n",
        "train_image_tensors = []\n",
        "\n",
        "gt_classes_one_hot_tensors = []\n",
        "gt_box_tensors = []\n",
        "\n",
        "for (train_image_np, gt_box_np) in zip(train_images_np, gt_boxes):\n",
        "    train_image_tensors.append(tf.expand_dims(tf.convert_to_tensor(train_image_np, dtype=tf.float32), axis=0))\n",
        "    gt_box_tensors.append(tf.convert_to_tensor(gt_box_np, dtype=tf.float32))\n",
        "    zero_indexed_groundtruth_classes = tf.convert_to_tensor(\n",
        "        np.ones(shape=[gt_box_np.shape[0]], dtype=np.int32) - label_id_offset)\n",
        "    \n",
        "    gt_classes_one_hot_tensors.append(tf.one_hot(\n",
        "        zero_indexed_groundtruth_classes, num_classes))\n",
        "\n",
        "print('Done prepping data.')"
      ],
      "metadata": {
        "colab": {
          "base_uri": "https://localhost:8080/"
        },
        "id": "RhF2OKYG9KMR",
        "outputId": "6278cc3d-a519-4a76-f89a-7a825ad30d6b"
      },
      "execution_count": null,
      "outputs": [
        {
          "output_type": "stream",
          "name": "stdout",
          "text": [
            "Done prepping data.\n"
          ]
        }
      ]
    },
    {
      "cell_type": "code",
      "source": [
        "dummy_scores = np.array([1.0], dtype=np.float32)\n",
        "\n",
        "plt.figure(figsize=(30, 15))\n",
        "\n",
        "for idx in range(len(dirs)):\n",
        "    plt.subplot(2, 4, idx+1)\n",
        "    plot_detections(\n",
        "      train_images_np[idx],\n",
        "      gt_boxes[idx],\n",
        "      np.ones(shape=[gt_boxes[idx]], dtype=np.int32),dummy_scores, category_index)\n",
        "\n",
        "plt.show()"
      ],
      "metadata": {
        "id": "c94gRJuo9R38"
      },
      "execution_count": null,
      "outputs": []
    },
    {
      "cell_type": "code",
      "source": [
        "!wget http://download.tensorflow.org/models/object_detection/tf2/20200711/ssd_resnet50_v1_fpn_640x640_coco17_tpu-8.tar.gz\n",
        "    \n",
        "# untar (decompress) the tar file\n",
        "!tar -xf ssd_resnet50_v1_fpn_640x640_coco17_tpu-8.tar.gz\n",
        "\n",
        "\n",
        "# copy the checkpoint to the test_data folder models/research/object_detection/test_data/\n",
        "!mv ssd_resnet50_v1_fpn_640x640_coco17_tpu-8/checkpoint models/research/object_detection/test_data/"
      ],
      "metadata": {
        "colab": {
          "base_uri": "https://localhost:8080/"
        },
        "id": "5pdtMuWi92vL",
        "outputId": "46437269-afa3-4d5f-daab-b1b319b4b30c"
      },
      "execution_count": null,
      "outputs": [
        {
          "output_type": "stream",
          "name": "stdout",
          "text": [
            "--2022-04-29 04:04:17--  http://download.tensorflow.org/models/object_detection/tf2/20200711/ssd_resnet50_v1_fpn_640x640_coco17_tpu-8.tar.gz\n",
            "Resolving download.tensorflow.org (download.tensorflow.org)... 172.217.193.128, 2607:f8b0:400c:c03::80\n",
            "Connecting to download.tensorflow.org (download.tensorflow.org)|172.217.193.128|:80... connected.\n",
            "HTTP request sent, awaiting response... 200 OK\n",
            "Length: 244817203 (233M) [application/x-tar]\n",
            "Saving to: ‘ssd_resnet50_v1_fpn_640x640_coco17_tpu-8.tar.gz’\n",
            "\n",
            "ssd_resnet50_v1_fpn 100%[===================>] 233.48M   200MB/s    in 1.2s    \n",
            "\n",
            "2022-04-29 04:04:19 (200 MB/s) - ‘ssd_resnet50_v1_fpn_640x640_coco17_tpu-8.tar.gz’ saved [244817203/244817203]\n",
            "\n"
          ]
        }
      ]
    },
    {
      "cell_type": "code",
      "source": [
        "tf.keras.backend.clear_session()\n",
        "\n",
        "\n",
        "### START CODE HERE ###\n",
        "# define the path to the .config file for ssd resnet 50 v1 640x640\n",
        "pipeline_config = '/content/models/research/object_detection/configs/tf2/ssd_resnet50_v1_fpn_640x640_coco17_tpu-8.config'\n",
        "\n",
        "# Load the configuration file into a dictionary\n",
        "configs = config_util.get_configs_from_pipeline_file(pipeline_config_path=pipeline_config)\n",
        "\n",
        "### END CODE HERE ###\n",
        "# See what configs looks like\n",
        "configs"
      ],
      "metadata": {
        "colab": {
          "base_uri": "https://localhost:8080/"
        },
        "id": "whOp55W--wHU",
        "outputId": "7f2f409a-98b7-4598-b785-8d78ef7ecc9a"
      },
      "execution_count": null,
      "outputs": [
        {
          "output_type": "execute_result",
          "data": {
            "text/plain": [
              "{'eval_config': metrics_set: \"coco_detection_metrics\"\n",
              " use_moving_averages: false,\n",
              " 'eval_input_config': label_map_path: \"PATH_TO_BE_CONFIGURED/label_map.txt\"\n",
              " shuffle: false\n",
              " num_epochs: 1\n",
              " tf_record_input_reader {\n",
              "   input_path: \"PATH_TO_BE_CONFIGURED/val2017-?????-of-00032.tfrecord\"\n",
              " },\n",
              " 'eval_input_configs': [label_map_path: \"PATH_TO_BE_CONFIGURED/label_map.txt\"\n",
              " shuffle: false\n",
              " num_epochs: 1\n",
              " tf_record_input_reader {\n",
              "   input_path: \"PATH_TO_BE_CONFIGURED/val2017-?????-of-00032.tfrecord\"\n",
              " }\n",
              " ],\n",
              " 'model': ssd {\n",
              "   num_classes: 90\n",
              "   image_resizer {\n",
              "     fixed_shape_resizer {\n",
              "       height: 640\n",
              "       width: 640\n",
              "     }\n",
              "   }\n",
              "   feature_extractor {\n",
              "     type: \"ssd_resnet50_v1_fpn_keras\"\n",
              "     depth_multiplier: 1.0\n",
              "     min_depth: 16\n",
              "     conv_hyperparams {\n",
              "       regularizer {\n",
              "         l2_regularizer {\n",
              "           weight: 0.00039999998989515007\n",
              "         }\n",
              "       }\n",
              "       initializer {\n",
              "         truncated_normal_initializer {\n",
              "           mean: 0.0\n",
              "           stddev: 0.029999999329447746\n",
              "         }\n",
              "       }\n",
              "       activation: RELU_6\n",
              "       batch_norm {\n",
              "         decay: 0.996999979019165\n",
              "         scale: true\n",
              "         epsilon: 0.0010000000474974513\n",
              "       }\n",
              "     }\n",
              "     override_base_feature_extractor_hyperparams: true\n",
              "     fpn {\n",
              "       min_level: 3\n",
              "       max_level: 7\n",
              "     }\n",
              "   }\n",
              "   box_coder {\n",
              "     faster_rcnn_box_coder {\n",
              "       y_scale: 10.0\n",
              "       x_scale: 10.0\n",
              "       height_scale: 5.0\n",
              "       width_scale: 5.0\n",
              "     }\n",
              "   }\n",
              "   matcher {\n",
              "     argmax_matcher {\n",
              "       matched_threshold: 0.5\n",
              "       unmatched_threshold: 0.5\n",
              "       ignore_thresholds: false\n",
              "       negatives_lower_than_unmatched: true\n",
              "       force_match_for_each_row: true\n",
              "       use_matmul_gather: true\n",
              "     }\n",
              "   }\n",
              "   similarity_calculator {\n",
              "     iou_similarity {\n",
              "     }\n",
              "   }\n",
              "   box_predictor {\n",
              "     weight_shared_convolutional_box_predictor {\n",
              "       conv_hyperparams {\n",
              "         regularizer {\n",
              "           l2_regularizer {\n",
              "             weight: 0.00039999998989515007\n",
              "           }\n",
              "         }\n",
              "         initializer {\n",
              "           random_normal_initializer {\n",
              "             mean: 0.0\n",
              "             stddev: 0.009999999776482582\n",
              "           }\n",
              "         }\n",
              "         activation: RELU_6\n",
              "         batch_norm {\n",
              "           decay: 0.996999979019165\n",
              "           scale: true\n",
              "           epsilon: 0.0010000000474974513\n",
              "         }\n",
              "       }\n",
              "       depth: 256\n",
              "       num_layers_before_predictor: 4\n",
              "       kernel_size: 3\n",
              "       class_prediction_bias_init: -4.599999904632568\n",
              "     }\n",
              "   }\n",
              "   anchor_generator {\n",
              "     multiscale_anchor_generator {\n",
              "       min_level: 3\n",
              "       max_level: 7\n",
              "       anchor_scale: 4.0\n",
              "       aspect_ratios: 1.0\n",
              "       aspect_ratios: 2.0\n",
              "       aspect_ratios: 0.5\n",
              "       scales_per_octave: 2\n",
              "     }\n",
              "   }\n",
              "   post_processing {\n",
              "     batch_non_max_suppression {\n",
              "       score_threshold: 9.99999993922529e-09\n",
              "       iou_threshold: 0.6000000238418579\n",
              "       max_detections_per_class: 100\n",
              "       max_total_detections: 100\n",
              "     }\n",
              "     score_converter: SIGMOID\n",
              "   }\n",
              "   normalize_loss_by_num_matches: true\n",
              "   loss {\n",
              "     localization_loss {\n",
              "       weighted_smooth_l1 {\n",
              "       }\n",
              "     }\n",
              "     classification_loss {\n",
              "       weighted_sigmoid_focal {\n",
              "         gamma: 2.0\n",
              "         alpha: 0.25\n",
              "       }\n",
              "     }\n",
              "     classification_weight: 1.0\n",
              "     localization_weight: 1.0\n",
              "   }\n",
              "   encode_background_as_zeros: true\n",
              "   normalize_loc_loss_by_codesize: true\n",
              "   inplace_batchnorm_update: true\n",
              "   freeze_batchnorm: false\n",
              " },\n",
              " 'train_config': batch_size: 64\n",
              " data_augmentation_options {\n",
              "   random_horizontal_flip {\n",
              "   }\n",
              " }\n",
              " data_augmentation_options {\n",
              "   random_crop_image {\n",
              "     min_object_covered: 0.0\n",
              "     min_aspect_ratio: 0.75\n",
              "     max_aspect_ratio: 3.0\n",
              "     min_area: 0.75\n",
              "     max_area: 1.0\n",
              "     overlap_thresh: 0.0\n",
              "   }\n",
              " }\n",
              " sync_replicas: true\n",
              " optimizer {\n",
              "   momentum_optimizer {\n",
              "     learning_rate {\n",
              "       cosine_decay_learning_rate {\n",
              "         learning_rate_base: 0.03999999910593033\n",
              "         total_steps: 25000\n",
              "         warmup_learning_rate: 0.013333000242710114\n",
              "         warmup_steps: 2000\n",
              "       }\n",
              "     }\n",
              "     momentum_optimizer_value: 0.8999999761581421\n",
              "   }\n",
              "   use_moving_average: false\n",
              " }\n",
              " fine_tune_checkpoint: \"PATH_TO_BE_CONFIGURED/resnet50.ckpt-1\"\n",
              " num_steps: 25000\n",
              " startup_delay_steps: 0.0\n",
              " replicas_to_aggregate: 8\n",
              " max_number_of_boxes: 100\n",
              " unpad_groundtruth_tensors: false\n",
              " fine_tune_checkpoint_type: \"classification\"\n",
              " use_bfloat16: true\n",
              " fine_tune_checkpoint_version: V2,\n",
              " 'train_input_config': label_map_path: \"PATH_TO_BE_CONFIGURED/label_map.txt\"\n",
              " tf_record_input_reader {\n",
              "   input_path: \"PATH_TO_BE_CONFIGURED/train2017-?????-of-00256.tfrecord\"\n",
              " }}"
            ]
          },
          "metadata": {},
          "execution_count": 26
        }
      ]
    },
    {
      "cell_type": "code",
      "source": [
        "model_config = configs['model']\n",
        "model_config"
      ],
      "metadata": {
        "colab": {
          "base_uri": "https://localhost:8080/"
        },
        "id": "46QNTFGT-05K",
        "outputId": "dec2a4e2-0755-43d9-8997-dda80cedf0d0"
      },
      "execution_count": null,
      "outputs": [
        {
          "output_type": "execute_result",
          "data": {
            "text/plain": [
              "ssd {\n",
              "  num_classes: 90\n",
              "  image_resizer {\n",
              "    fixed_shape_resizer {\n",
              "      height: 640\n",
              "      width: 640\n",
              "    }\n",
              "  }\n",
              "  feature_extractor {\n",
              "    type: \"ssd_resnet50_v1_fpn_keras\"\n",
              "    depth_multiplier: 1.0\n",
              "    min_depth: 16\n",
              "    conv_hyperparams {\n",
              "      regularizer {\n",
              "        l2_regularizer {\n",
              "          weight: 0.00039999998989515007\n",
              "        }\n",
              "      }\n",
              "      initializer {\n",
              "        truncated_normal_initializer {\n",
              "          mean: 0.0\n",
              "          stddev: 0.029999999329447746\n",
              "        }\n",
              "      }\n",
              "      activation: RELU_6\n",
              "      batch_norm {\n",
              "        decay: 0.996999979019165\n",
              "        scale: true\n",
              "        epsilon: 0.0010000000474974513\n",
              "      }\n",
              "    }\n",
              "    override_base_feature_extractor_hyperparams: true\n",
              "    fpn {\n",
              "      min_level: 3\n",
              "      max_level: 7\n",
              "    }\n",
              "  }\n",
              "  box_coder {\n",
              "    faster_rcnn_box_coder {\n",
              "      y_scale: 10.0\n",
              "      x_scale: 10.0\n",
              "      height_scale: 5.0\n",
              "      width_scale: 5.0\n",
              "    }\n",
              "  }\n",
              "  matcher {\n",
              "    argmax_matcher {\n",
              "      matched_threshold: 0.5\n",
              "      unmatched_threshold: 0.5\n",
              "      ignore_thresholds: false\n",
              "      negatives_lower_than_unmatched: true\n",
              "      force_match_for_each_row: true\n",
              "      use_matmul_gather: true\n",
              "    }\n",
              "  }\n",
              "  similarity_calculator {\n",
              "    iou_similarity {\n",
              "    }\n",
              "  }\n",
              "  box_predictor {\n",
              "    weight_shared_convolutional_box_predictor {\n",
              "      conv_hyperparams {\n",
              "        regularizer {\n",
              "          l2_regularizer {\n",
              "            weight: 0.00039999998989515007\n",
              "          }\n",
              "        }\n",
              "        initializer {\n",
              "          random_normal_initializer {\n",
              "            mean: 0.0\n",
              "            stddev: 0.009999999776482582\n",
              "          }\n",
              "        }\n",
              "        activation: RELU_6\n",
              "        batch_norm {\n",
              "          decay: 0.996999979019165\n",
              "          scale: true\n",
              "          epsilon: 0.0010000000474974513\n",
              "        }\n",
              "      }\n",
              "      depth: 256\n",
              "      num_layers_before_predictor: 4\n",
              "      kernel_size: 3\n",
              "      class_prediction_bias_init: -4.599999904632568\n",
              "    }\n",
              "  }\n",
              "  anchor_generator {\n",
              "    multiscale_anchor_generator {\n",
              "      min_level: 3\n",
              "      max_level: 7\n",
              "      anchor_scale: 4.0\n",
              "      aspect_ratios: 1.0\n",
              "      aspect_ratios: 2.0\n",
              "      aspect_ratios: 0.5\n",
              "      scales_per_octave: 2\n",
              "    }\n",
              "  }\n",
              "  post_processing {\n",
              "    batch_non_max_suppression {\n",
              "      score_threshold: 9.99999993922529e-09\n",
              "      iou_threshold: 0.6000000238418579\n",
              "      max_detections_per_class: 100\n",
              "      max_total_detections: 100\n",
              "    }\n",
              "    score_converter: SIGMOID\n",
              "  }\n",
              "  normalize_loss_by_num_matches: true\n",
              "  loss {\n",
              "    localization_loss {\n",
              "      weighted_smooth_l1 {\n",
              "      }\n",
              "    }\n",
              "    classification_loss {\n",
              "      weighted_sigmoid_focal {\n",
              "        gamma: 2.0\n",
              "        alpha: 0.25\n",
              "      }\n",
              "    }\n",
              "    classification_weight: 1.0\n",
              "    localization_weight: 1.0\n",
              "  }\n",
              "  encode_background_as_zeros: true\n",
              "  normalize_loc_loss_by_codesize: true\n",
              "  inplace_batchnorm_update: true\n",
              "  freeze_batchnorm: false\n",
              "}"
            ]
          },
          "metadata": {},
          "execution_count": 27
        }
      ]
    },
    {
      "cell_type": "code",
      "source": [
        "model_config.ssd.num_classes = num_classes\n",
        "model_config.ssd.freeze_batchnorm = True\n",
        "model_config"
      ],
      "metadata": {
        "colab": {
          "base_uri": "https://localhost:8080/"
        },
        "id": "oJ3ct638-30X",
        "outputId": "173c49cc-500a-4c01-af2d-d4cedafddc31"
      },
      "execution_count": null,
      "outputs": [
        {
          "output_type": "execute_result",
          "data": {
            "text/plain": [
              "ssd {\n",
              "  num_classes: 4\n",
              "  image_resizer {\n",
              "    fixed_shape_resizer {\n",
              "      height: 640\n",
              "      width: 640\n",
              "    }\n",
              "  }\n",
              "  feature_extractor {\n",
              "    type: \"ssd_resnet50_v1_fpn_keras\"\n",
              "    depth_multiplier: 1.0\n",
              "    min_depth: 16\n",
              "    conv_hyperparams {\n",
              "      regularizer {\n",
              "        l2_regularizer {\n",
              "          weight: 0.00039999998989515007\n",
              "        }\n",
              "      }\n",
              "      initializer {\n",
              "        truncated_normal_initializer {\n",
              "          mean: 0.0\n",
              "          stddev: 0.029999999329447746\n",
              "        }\n",
              "      }\n",
              "      activation: RELU_6\n",
              "      batch_norm {\n",
              "        decay: 0.996999979019165\n",
              "        scale: true\n",
              "        epsilon: 0.0010000000474974513\n",
              "      }\n",
              "    }\n",
              "    override_base_feature_extractor_hyperparams: true\n",
              "    fpn {\n",
              "      min_level: 3\n",
              "      max_level: 7\n",
              "    }\n",
              "  }\n",
              "  box_coder {\n",
              "    faster_rcnn_box_coder {\n",
              "      y_scale: 10.0\n",
              "      x_scale: 10.0\n",
              "      height_scale: 5.0\n",
              "      width_scale: 5.0\n",
              "    }\n",
              "  }\n",
              "  matcher {\n",
              "    argmax_matcher {\n",
              "      matched_threshold: 0.5\n",
              "      unmatched_threshold: 0.5\n",
              "      ignore_thresholds: false\n",
              "      negatives_lower_than_unmatched: true\n",
              "      force_match_for_each_row: true\n",
              "      use_matmul_gather: true\n",
              "    }\n",
              "  }\n",
              "  similarity_calculator {\n",
              "    iou_similarity {\n",
              "    }\n",
              "  }\n",
              "  box_predictor {\n",
              "    weight_shared_convolutional_box_predictor {\n",
              "      conv_hyperparams {\n",
              "        regularizer {\n",
              "          l2_regularizer {\n",
              "            weight: 0.00039999998989515007\n",
              "          }\n",
              "        }\n",
              "        initializer {\n",
              "          random_normal_initializer {\n",
              "            mean: 0.0\n",
              "            stddev: 0.009999999776482582\n",
              "          }\n",
              "        }\n",
              "        activation: RELU_6\n",
              "        batch_norm {\n",
              "          decay: 0.996999979019165\n",
              "          scale: true\n",
              "          epsilon: 0.0010000000474974513\n",
              "        }\n",
              "      }\n",
              "      depth: 256\n",
              "      num_layers_before_predictor: 4\n",
              "      kernel_size: 3\n",
              "      class_prediction_bias_init: -4.599999904632568\n",
              "    }\n",
              "  }\n",
              "  anchor_generator {\n",
              "    multiscale_anchor_generator {\n",
              "      min_level: 3\n",
              "      max_level: 7\n",
              "      anchor_scale: 4.0\n",
              "      aspect_ratios: 1.0\n",
              "      aspect_ratios: 2.0\n",
              "      aspect_ratios: 0.5\n",
              "      scales_per_octave: 2\n",
              "    }\n",
              "  }\n",
              "  post_processing {\n",
              "    batch_non_max_suppression {\n",
              "      score_threshold: 9.99999993922529e-09\n",
              "      iou_threshold: 0.6000000238418579\n",
              "      max_detections_per_class: 100\n",
              "      max_total_detections: 100\n",
              "    }\n",
              "    score_converter: SIGMOID\n",
              "  }\n",
              "  normalize_loss_by_num_matches: true\n",
              "  loss {\n",
              "    localization_loss {\n",
              "      weighted_smooth_l1 {\n",
              "      }\n",
              "    }\n",
              "    classification_loss {\n",
              "      weighted_sigmoid_focal {\n",
              "        gamma: 2.0\n",
              "        alpha: 0.25\n",
              "      }\n",
              "    }\n",
              "    classification_weight: 1.0\n",
              "    localization_weight: 1.0\n",
              "  }\n",
              "  encode_background_as_zeros: true\n",
              "  normalize_loc_loss_by_codesize: true\n",
              "  inplace_batchnorm_update: true\n",
              "  freeze_batchnorm: true\n",
              "}"
            ]
          },
          "metadata": {},
          "execution_count": 28
        }
      ]
    },
    {
      "cell_type": "code",
      "source": [
        "detection_model = model_builder.build(model_config=model_config,is_training=True)\n",
        "\n",
        "print(type(detection_model))"
      ],
      "metadata": {
        "colab": {
          "base_uri": "https://localhost:8080/"
        },
        "id": "iQFy_6mg_DGX",
        "outputId": "dc3d5f34-d4f3-4bf5-e65d-6557af4ecf73"
      },
      "execution_count": null,
      "outputs": [
        {
          "output_type": "stream",
          "name": "stdout",
          "text": [
            "<class 'object_detection.meta_architectures.ssd_meta_arch.SSDMetaArch'>\n"
          ]
        }
      ]
    },
    {
      "cell_type": "code",
      "source": [
        "detection_model"
      ],
      "metadata": {
        "colab": {
          "base_uri": "https://localhost:8080/"
        },
        "id": "QNkTEHYM_H7N",
        "outputId": "eab97562-3cf1-42bb-c3be-b2d5630e2694"
      },
      "execution_count": null,
      "outputs": [
        {
          "output_type": "execute_result",
          "data": {
            "text/plain": [
              "<object_detection.meta_architectures.ssd_meta_arch.SSDMetaArch at 0x7faf166d6c10>"
            ]
          },
          "metadata": {},
          "execution_count": 30
        }
      ]
    },
    {
      "cell_type": "code",
      "source": [
        "tmp_box_predictor_checkpoint = tf.compat.v2.train.Checkpoint(_base_tower_layers_for_heads=detection_model._box_predictor._base_tower_layers_for_heads,\n",
        "\n",
        "    _box_prediction_head=detection_model._box_predictor._box_prediction_head,)"
      ],
      "metadata": {
        "id": "itAhOcWd_KKO"
      },
      "execution_count": null,
      "outputs": []
    },
    {
      "cell_type": "code",
      "source": [
        "from object_detection.protos import box_predictor_pb2\n",
        "\n",
        "tmp_model_checkpoint = tf.compat.v2.train.Checkpoint(feature_extractor=detection_model.feature_extractor,\n",
        "                                                     box_predictor=tmp_box_predictor_checkpoint)\n",
        "          \n",
        "    "
      ],
      "metadata": {
        "id": "rBU_yksS_PXm"
      },
      "execution_count": null,
      "outputs": []
    },
    {
      "cell_type": "code",
      "source": [
        "checkpoint_path = '/content/models/research/object_detection/test_data/checkpoint/ckpt-0'\n",
        "checkpoint =tf.train.Checkpoint(model = detection_model) \n",
        "tmp_model_checkpoint.restore(checkpoint_path)"
      ],
      "metadata": {
        "colab": {
          "base_uri": "https://localhost:8080/"
        },
        "id": "RULh11tb_TQ6",
        "outputId": "07655dbd-55be-46c1-d9d5-9a460d361906"
      },
      "execution_count": null,
      "outputs": [
        {
          "output_type": "execute_result",
          "data": {
            "text/plain": [
              "<tensorflow.python.training.tracking.util.CheckpointLoadStatus at 0x7faf16634d10>"
            ]
          },
          "metadata": {},
          "execution_count": 33
        }
      ]
    },
    {
      "cell_type": "code",
      "source": [
        "tmp_image, tmp_shapes = detection_model.preprocess(tf.zeros([1,640,640,3]))\n",
        "\n",
        "tmp_prediction_dict = detection_model.predict(tmp_image,tmp_shapes)\n",
        "\n",
        "\n",
        "tmp_detections = detection_model.postprocess(tmp_prediction_dict,tmp_shapes)\n",
        "\n",
        "print('Weights restored!')"
      ],
      "metadata": {
        "colab": {
          "base_uri": "https://localhost:8080/"
        },
        "id": "USfRI-Sp_WTN",
        "outputId": "4e8ccaaf-c009-4909-fbf4-007e27eb8161"
      },
      "execution_count": null,
      "outputs": [
        {
          "output_type": "stream",
          "name": "stdout",
          "text": [
            "Weights restored!\n"
          ]
        }
      ]
    },
    {
      "cell_type": "code",
      "source": [
        "tf.keras.backend.set_learning_phase(True)\n",
        "batch_size = 4\n",
        "num_batches = 100\n",
        "learning_rate = 0.1\n",
        "optimizer = tf.keras.optimizers.SGD(learning_rate,momentum=0.9)"
      ],
      "metadata": {
        "colab": {
          "base_uri": "https://localhost:8080/"
        },
        "id": "niEn9jWV_cb_",
        "outputId": "5916209b-4d80-4fc6-8d59-3e2b696c20d6"
      },
      "execution_count": null,
      "outputs": [
        {
          "output_type": "stream",
          "name": "stderr",
          "text": [
            "/usr/local/lib/python3.7/dist-packages/keras/backend.py:450: UserWarning: `tf.keras.backend.set_learning_phase` is deprecated and will be removed after 2020-10-11. To update it, simply pass a True/False value to the `training` argument of the `__call__` method of your layer or model.\n",
            "  warnings.warn('`tf.keras.backend.set_learning_phase` is deprecated and '\n"
          ]
        }
      ]
    },
    {
      "cell_type": "code",
      "source": [
        "trainable_variables = detection_model.trainable_variables\n",
        "to_fine_tune = []\n",
        "prefixes_to_train = [\n",
        "  'WeightSharedConvolutionalBoxPredictor/WeightSharedConvolutionalBoxHead',\n",
        "  'WeightSharedConvolutionalBoxPredictor/WeightSharedConvolutionalClassHead']\n",
        "for var in trainable_variables:\n",
        "  if any([var.name.startswith(prefix) for prefix in prefixes_to_train]):\n",
        "    to_fine_tune.append(var)\n",
        "\n"
      ],
      "metadata": {
        "id": "Wy2Y2wKS_gfX"
      },
      "execution_count": null,
      "outputs": []
    },
    {
      "cell_type": "code",
      "source": [
        "@tf.function\n",
        "def train_step_fn(image_list,\n",
        "                groundtruth_boxes_list,\n",
        "                groundtruth_classes_list,\n",
        "                model,\n",
        "                optimizer,\n",
        "                vars_to_fine_tune):\n",
        "\n",
        "    shapes = tf.constant(batch_size * [[640, 640, 3]], dtype=tf.int32)\n",
        "    model.provide_groundtruth(\n",
        "        groundtruth_boxes_list=groundtruth_boxes_list,\n",
        "        groundtruth_classes_list=groundtruth_classes_list)\n",
        "    with tf.GradientTape() as tape:\n",
        "    ### START CODE HERE (Replace instances of `None` with your code) ###\n",
        "\n",
        "        # Preprocess the images\n",
        "        \n",
        "        preprocessed_image_tensor = tf.concat(\n",
        "            [detection_model.preprocess(image_tensor)[0]\n",
        "             for image_tensor in image_list], axis=0) \n",
        "        true_shape_tensor = preprocessed_image_tensor.shape \n",
        "\n",
        "        # Make a prediction\n",
        "        prediction_dict = model.predict(preprocessed_image_tensor, shapes)\n",
        "\n",
        "        # Calculate the total loss (sum of both losses)\n",
        "        losses_dict = model.loss(prediction_dict, shapes)\n",
        "        total_loss = losses_dict['Loss/localization_loss'] + losses_dict['Loss/classification_loss']\n",
        "\n",
        "        # Calculate the gradients\n",
        "        gradients = tape.gradient(total_loss, vars_to_fine_tune)\n",
        "\n",
        "        # Optimize the model's selected variables\n",
        "        optimizer.apply_gradients(zip(gradients, vars_to_fine_tune))\n",
        "        \n",
        "    return total_loss"
      ],
      "metadata": {
        "id": "HJS2GkR5_kwa"
      },
      "execution_count": null,
      "outputs": []
    },
    {
      "cell_type": "code",
      "source": [
        "print('Start fine-tuning!', flush=True)\n",
        "\n",
        "for idx in range(num_batches):\n",
        "    # Grab keys for a random subset of examples\n",
        "    all_keys = list(range(len(train_images_np)))\n",
        "    random.shuffle(all_keys)\n",
        "    example_keys = all_keys[:batch_size]\n",
        "\n",
        "    # Get the ground truth\n",
        "    gt_boxes_list = [gt_box_tensors[key] for key in example_keys]\n",
        "    gt_classes_list = [gt_classes_one_hot_tensors[key] for key in example_keys]\n",
        "    \n",
        "    # get the images\n",
        "    image_tensors = [train_image_tensors[key] for key in example_keys]\n",
        "\n",
        "    # Training step (forward pass + backwards pass)\n",
        "    total_loss = train_step_fn(image_tensors, \n",
        "                               gt_boxes_list, \n",
        "                               gt_classes_list,\n",
        "                               detection_model,\n",
        "                               optimizer,\n",
        "                               to_fine_tune\n",
        "                              )\n",
        "\n",
        "    if idx % 10 == 0:\n",
        "        print('batch ' + str(idx) + ' of ' + str(num_batches)\n",
        "        + ', loss=' +  str(total_loss.numpy()), flush=True)\n",
        "\n",
        "print('Done fine-tuning!')"
      ],
      "metadata": {
        "colab": {
          "base_uri": "https://localhost:8080/"
        },
        "id": "rco0ekCw_tRN",
        "outputId": "9012bc8f-00e3-4414-e131-d1d6b9cc827b"
      },
      "execution_count": null,
      "outputs": [
        {
          "output_type": "stream",
          "name": "stdout",
          "text": [
            "Start fine-tuning!\n",
            "batch 0 of 100, loss=1.3262436\n"
          ]
        }
      ]
    }
  ]
}